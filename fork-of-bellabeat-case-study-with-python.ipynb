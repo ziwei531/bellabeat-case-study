{
 "cells": [
  {
   "cell_type": "markdown",
   "id": "radio-aquatic",
   "metadata": {
    "papermill": {
     "duration": 0.054474,
     "end_time": "2023-04-08T16:15:36.731012",
     "exception": false,
     "start_time": "2023-04-08T16:15:36.676538",
     "status": "completed"
    },
    "tags": []
   },
   "source": [
    "# Case Study: How Can a Wellness Technology Company Play It Smart?\n",
    "## Part of the Google Analytics Professional Certificate \n",
    "#### by Whoong Zi Wei\n",
    "\n",
    "<br>\n",
    "\n",
    "Bellabeat is a high-tech company founded by Urška Sršen and Sando Mur that manufactures health-focused smart products for women. In this case study, I am presented a scenario where I will be working for Urška Sršen and I have been asked to focus on one of Bellabeat's products and analyze smart device data to gain insight into **how consumers are using their smart devices**. \n",
    "\n",
    "In order to help guide Bellabeat in unlocking new growth opportunities, I am requested by Urška Sršen to analyze available consumer data, which for this scenario I am to use a dataset by [Fitbit Fitness Tracker Data](https://www.kaggle.com/arashnic/fitbit) (Public Domain, dataset made available through [Mobius](https://www.kaggle.com/arashnic)). This dataset contains personal fitness tracker from thirty fitbit users. These thirty Fitbit users had consented to the submission of personal tracker data, which includes minute-level output for physical activity, heart rate, and sleep monitoring. It also includes information about daily activity, steps, and heart rate that can be used to explore users' habits. \n",
    "\n",
    "<br>\n",
    "\n",
    "#### **Key Stakeholders**:\n",
    "\n",
    "*     **Urska Srsen** - Bellabeat cofounder and CCO\n",
    "*     **Sando Mur** - Bellabeat cofounder\n",
    "*     **Bellabeat marketing analytics team**\n",
    "    \n",
    "#### **Bellabeat's Key Products**:\n",
    "\n",
    "*     **Bellabeat app**: The Bellabeat app provides users with health data related to their activity. The Bellabeat app connects to their line of smart wellness products.\n",
    "*     **Leaf**: Worn as either a bracelet, necklace, or clip; the Leaf tracker connects to the Bellabeat app to track activity, sleep, and stress.\n",
    "*     **Time**: A wellness watch that uses smart technology to track the user's activity, sleep, and stress.\n",
    "*     **Spring**: A water bottle that tracks daily water intake. The bottle connects to the Bellabeat app to track the users hydration levels.\n",
    "*     **Bellabeat membership**: A subscription-based membership program for users. Membership gives users 24/7 access to fully personalized guidance on nutrition, activity, sleep, health and beauty, and mindfulness based on their lifestyle and goals.\n",
    "\n",
    "<br>\n",
    "\n",
    "## <ins>Business Objective</ins>\n",
    "1. What are some trends in smart device usage?\n",
    "2. How could these trends apply to Bellabeat customers?\n",
    "3. How could these trends help influence Bellabeat marketing strategy?\n",
    "\n",
    "\n",
    "As this dataset has more than 10 csv files available, I am encouraged by Sršen to use as much as I can in order aid my research."
   ]
  },
  {
   "cell_type": "markdown",
   "id": "biblical-perry",
   "metadata": {
    "papermill": {
     "duration": 0.052523,
     "end_time": "2023-04-08T16:15:36.837099",
     "exception": false,
     "start_time": "2023-04-08T16:15:36.784576",
     "status": "completed"
    },
    "tags": []
   },
   "source": [
    "# Loading Packages"
   ]
  },
  {
   "cell_type": "code",
   "execution_count": 1,
   "id": "northern-heritage",
   "metadata": {
    "_cell_guid": "b1076dfc-b9ad-4769-8c92-a6c4dae69d19",
    "_uuid": "8f2839f25d086af736a60e9eeb907d3b93b6e0e5",
    "execution": {
     "iopub.execute_input": "2023-04-08T16:15:36.947814Z",
     "iopub.status.busy": "2023-04-08T16:15:36.946490Z",
     "iopub.status.idle": "2023-04-08T16:15:37.870818Z",
     "shell.execute_reply": "2023-04-08T16:15:37.869596Z",
     "shell.execute_reply.started": "2021-07-05T09:08:55.936404Z"
    },
    "papermill": {
     "duration": 0.980715,
     "end_time": "2023-04-08T16:15:37.871045",
     "exception": false,
     "start_time": "2023-04-08T16:15:36.890330",
     "status": "completed"
    },
    "tags": []
   },
   "outputs": [],
   "source": [
    "import numpy as np \n",
    "import pandas as pd \n",
    "import matplotlib.pyplot as plt\n",
    "#just in case i need to visualize missing values\n",
    "import missingno as msno\n",
    "import seaborn as sns"
   ]
  },
  {
   "cell_type": "markdown",
   "id": "presidential-aberdeen",
   "metadata": {
    "papermill": {
     "duration": 0.05239,
     "end_time": "2023-04-08T16:15:37.978630",
     "exception": false,
     "start_time": "2023-04-08T16:15:37.926240",
     "status": "completed"
    },
    "tags": []
   },
   "source": [
    "# **Prepare Phase**\n",
    "\n",
    "The datasets are gathered internally by FitBit, therefore the data can be safely assumed to be unbias and credible. I have also taken a look at the datasets in a spreadsheet software and there doesn't seem to be any problems other than the date formats are not properly converted. I will convert them to datetime formats when the need arises. "
   ]
  },
  {
   "cell_type": "markdown",
   "id": "compressed-exposure",
   "metadata": {
    "papermill": {
     "duration": 0.05254,
     "end_time": "2023-04-08T16:15:38.085398",
     "exception": false,
     "start_time": "2023-04-08T16:15:38.032858",
     "status": "completed"
    },
    "tags": []
   },
   "source": [
    "#### There are a total of 18 datasets available. However, I will only need a few of them for this case study. I will also merge some datasets if neccesary as I progress through this case study. "
   ]
  },
  {
   "cell_type": "code",
   "execution_count": 2,
   "id": "spare-greek",
   "metadata": {
    "execution": {
     "iopub.execute_input": "2023-04-08T16:15:38.201762Z",
     "iopub.status.busy": "2023-04-08T16:15:38.200993Z",
     "iopub.status.idle": "2023-04-08T16:15:41.981915Z",
     "shell.execute_reply": "2023-04-08T16:15:41.981200Z",
     "shell.execute_reply.started": "2021-07-05T09:08:56.300193Z"
    },
    "papermill": {
     "duration": 3.842686,
     "end_time": "2023-04-08T16:15:41.982091",
     "exception": false,
     "start_time": "2023-04-08T16:15:38.139405",
     "status": "completed"
    },
    "tags": []
   },
   "outputs": [],
   "source": [
    "pd.options.display.width = None\n",
    "pd.options.display.max_columns = None\n",
    "\n",
    "dailyActivity = pd.read_csv('../input/fitbit/Fitabase Data 4.12.16-5.12.16/dailyActivity_merged.csv')\n",
    "dailyCalories = pd.read_csv('../input/fitbit/Fitabase Data 4.12.16-5.12.16/dailyCalories_merged.csv')\n",
    "\n",
    "minuteSleep = pd.read_csv('../input/fitbit/Fitabase Data 4.12.16-5.12.16/minuteSleep_merged.csv')\n",
    "dailySteps = pd.read_csv('../input/fitbit/Fitabase Data 4.12.16-5.12.16/dailySteps_merged.csv')\n",
    "heartrateSeconds = pd.read_csv('../input/fitbit/Fitabase Data 4.12.16-5.12.16/heartrate_seconds_merged.csv')\n",
    "hourlyCalories = pd.read_csv('../input/fitbit/Fitabase Data 4.12.16-5.12.16/hourlyCalories_merged.csv')\n",
    "\n",
    "hourlyIntensities = pd.read_csv('../input/fitbit/Fitabase Data 4.12.16-5.12.16/hourlyIntensities_merged.csv')\n",
    "hourlySteps = pd.read_csv('../input/fitbit/Fitabase Data 4.12.16-5.12.16/hourlySteps_merged.csv')\n",
    "sleepDay = pd.read_csv('../input/fitbit/Fitabase Data 4.12.16-5.12.16/sleepDay_merged.csv')\n",
    "stepsDf = pd.read_csv('../input/fitbit/Fitabase Data 4.12.16-5.12.16/hourlySteps_merged.csv')\n",
    "weightLog = pd.read_csv('../input/fitbit/Fitabase Data 4.12.16-5.12.16/weightLogInfo_merged.csv')"
   ]
  },
  {
   "cell_type": "code",
   "execution_count": 3,
   "id": "happy-thought",
   "metadata": {
    "execution": {
     "iopub.execute_input": "2023-04-08T16:15:42.102842Z",
     "iopub.status.busy": "2023-04-08T16:15:42.101792Z",
     "iopub.status.idle": "2023-04-08T16:15:42.120619Z",
     "shell.execute_reply": "2023-04-08T16:15:42.119879Z",
     "shell.execute_reply.started": "2021-07-05T09:08:58.932551Z"
    },
    "papermill": {
     "duration": 0.08545,
     "end_time": "2023-04-08T16:15:42.120774",
     "exception": false,
     "start_time": "2023-04-08T16:15:42.035324",
     "status": "completed"
    },
    "tags": []
   },
   "outputs": [
    {
     "data": {
      "text/html": [
       "<div>\n",
       "<style scoped>\n",
       "    .dataframe tbody tr th:only-of-type {\n",
       "        vertical-align: middle;\n",
       "    }\n",
       "\n",
       "    .dataframe tbody tr th {\n",
       "        vertical-align: top;\n",
       "    }\n",
       "\n",
       "    .dataframe thead th {\n",
       "        text-align: right;\n",
       "    }\n",
       "</style>\n",
       "<table border=\"1\" class=\"dataframe\">\n",
       "  <thead>\n",
       "    <tr style=\"text-align: right;\">\n",
       "      <th></th>\n",
       "      <th>Id</th>\n",
       "      <th>ActivityHour</th>\n",
       "      <th>StepTotal</th>\n",
       "    </tr>\n",
       "  </thead>\n",
       "  <tbody>\n",
       "    <tr>\n",
       "      <th>0</th>\n",
       "      <td>1503960366</td>\n",
       "      <td>4/12/2016 12:00:00 AM</td>\n",
       "      <td>373</td>\n",
       "    </tr>\n",
       "    <tr>\n",
       "      <th>1</th>\n",
       "      <td>1503960366</td>\n",
       "      <td>4/12/2016 1:00:00 AM</td>\n",
       "      <td>160</td>\n",
       "    </tr>\n",
       "    <tr>\n",
       "      <th>2</th>\n",
       "      <td>1503960366</td>\n",
       "      <td>4/12/2016 2:00:00 AM</td>\n",
       "      <td>151</td>\n",
       "    </tr>\n",
       "    <tr>\n",
       "      <th>3</th>\n",
       "      <td>1503960366</td>\n",
       "      <td>4/12/2016 3:00:00 AM</td>\n",
       "      <td>0</td>\n",
       "    </tr>\n",
       "    <tr>\n",
       "      <th>4</th>\n",
       "      <td>1503960366</td>\n",
       "      <td>4/12/2016 4:00:00 AM</td>\n",
       "      <td>0</td>\n",
       "    </tr>\n",
       "  </tbody>\n",
       "</table>\n",
       "</div>"
      ],
      "text/plain": [
       "           Id           ActivityHour  StepTotal\n",
       "0  1503960366  4/12/2016 12:00:00 AM        373\n",
       "1  1503960366   4/12/2016 1:00:00 AM        160\n",
       "2  1503960366   4/12/2016 2:00:00 AM        151\n",
       "3  1503960366   4/12/2016 3:00:00 AM          0\n",
       "4  1503960366   4/12/2016 4:00:00 AM          0"
      ]
     },
     "execution_count": 3,
     "metadata": {},
     "output_type": "execute_result"
    }
   ],
   "source": [
    "hourlySteps.head()"
   ]
  },
  {
   "cell_type": "code",
   "execution_count": 4,
   "id": "armed-western",
   "metadata": {
    "execution": {
     "iopub.execute_input": "2023-04-08T16:15:42.241276Z",
     "iopub.status.busy": "2023-04-08T16:15:42.240229Z",
     "iopub.status.idle": "2023-04-08T16:15:42.245106Z",
     "shell.execute_reply": "2023-04-08T16:15:42.244479Z",
     "shell.execute_reply.started": "2021-07-05T09:08:58.95215Z"
    },
    "papermill": {
     "duration": 0.070724,
     "end_time": "2023-04-08T16:15:42.245258",
     "exception": false,
     "start_time": "2023-04-08T16:15:42.174534",
     "status": "completed"
    },
    "tags": []
   },
   "outputs": [
    {
     "data": {
      "text/html": [
       "<div>\n",
       "<style scoped>\n",
       "    .dataframe tbody tr th:only-of-type {\n",
       "        vertical-align: middle;\n",
       "    }\n",
       "\n",
       "    .dataframe tbody tr th {\n",
       "        vertical-align: top;\n",
       "    }\n",
       "\n",
       "    .dataframe thead th {\n",
       "        text-align: right;\n",
       "    }\n",
       "</style>\n",
       "<table border=\"1\" class=\"dataframe\">\n",
       "  <thead>\n",
       "    <tr style=\"text-align: right;\">\n",
       "      <th></th>\n",
       "      <th>Id</th>\n",
       "      <th>ActivityHour</th>\n",
       "      <th>TotalIntensity</th>\n",
       "      <th>AverageIntensity</th>\n",
       "    </tr>\n",
       "  </thead>\n",
       "  <tbody>\n",
       "    <tr>\n",
       "      <th>0</th>\n",
       "      <td>1503960366</td>\n",
       "      <td>4/12/2016 12:00:00 AM</td>\n",
       "      <td>20</td>\n",
       "      <td>0.333333</td>\n",
       "    </tr>\n",
       "    <tr>\n",
       "      <th>1</th>\n",
       "      <td>1503960366</td>\n",
       "      <td>4/12/2016 1:00:00 AM</td>\n",
       "      <td>8</td>\n",
       "      <td>0.133333</td>\n",
       "    </tr>\n",
       "    <tr>\n",
       "      <th>2</th>\n",
       "      <td>1503960366</td>\n",
       "      <td>4/12/2016 2:00:00 AM</td>\n",
       "      <td>7</td>\n",
       "      <td>0.116667</td>\n",
       "    </tr>\n",
       "    <tr>\n",
       "      <th>3</th>\n",
       "      <td>1503960366</td>\n",
       "      <td>4/12/2016 3:00:00 AM</td>\n",
       "      <td>0</td>\n",
       "      <td>0.000000</td>\n",
       "    </tr>\n",
       "    <tr>\n",
       "      <th>4</th>\n",
       "      <td>1503960366</td>\n",
       "      <td>4/12/2016 4:00:00 AM</td>\n",
       "      <td>0</td>\n",
       "      <td>0.000000</td>\n",
       "    </tr>\n",
       "  </tbody>\n",
       "</table>\n",
       "</div>"
      ],
      "text/plain": [
       "           Id           ActivityHour  TotalIntensity  AverageIntensity\n",
       "0  1503960366  4/12/2016 12:00:00 AM              20          0.333333\n",
       "1  1503960366   4/12/2016 1:00:00 AM               8          0.133333\n",
       "2  1503960366   4/12/2016 2:00:00 AM               7          0.116667\n",
       "3  1503960366   4/12/2016 3:00:00 AM               0          0.000000\n",
       "4  1503960366   4/12/2016 4:00:00 AM               0          0.000000"
      ]
     },
     "execution_count": 4,
     "metadata": {},
     "output_type": "execute_result"
    }
   ],
   "source": [
    "hourlyIntensities.head()"
   ]
  },
  {
   "cell_type": "code",
   "execution_count": 5,
   "id": "surprised-ebony",
   "metadata": {
    "execution": {
     "iopub.execute_input": "2023-04-08T16:15:42.363275Z",
     "iopub.status.busy": "2023-04-08T16:15:42.362251Z",
     "iopub.status.idle": "2023-04-08T16:15:42.366452Z",
     "shell.execute_reply": "2023-04-08T16:15:42.367019Z",
     "shell.execute_reply.started": "2021-07-05T09:08:58.966259Z"
    },
    "papermill": {
     "duration": 0.067808,
     "end_time": "2023-04-08T16:15:42.367198",
     "exception": false,
     "start_time": "2023-04-08T16:15:42.299390",
     "status": "completed"
    },
    "tags": []
   },
   "outputs": [
    {
     "data": {
      "text/html": [
       "<div>\n",
       "<style scoped>\n",
       "    .dataframe tbody tr th:only-of-type {\n",
       "        vertical-align: middle;\n",
       "    }\n",
       "\n",
       "    .dataframe tbody tr th {\n",
       "        vertical-align: top;\n",
       "    }\n",
       "\n",
       "    .dataframe thead th {\n",
       "        text-align: right;\n",
       "    }\n",
       "</style>\n",
       "<table border=\"1\" class=\"dataframe\">\n",
       "  <thead>\n",
       "    <tr style=\"text-align: right;\">\n",
       "      <th></th>\n",
       "      <th>Id</th>\n",
       "      <th>Time</th>\n",
       "      <th>Value</th>\n",
       "    </tr>\n",
       "  </thead>\n",
       "  <tbody>\n",
       "    <tr>\n",
       "      <th>0</th>\n",
       "      <td>2022484408</td>\n",
       "      <td>4/12/2016 7:21:00 AM</td>\n",
       "      <td>97</td>\n",
       "    </tr>\n",
       "    <tr>\n",
       "      <th>1</th>\n",
       "      <td>2022484408</td>\n",
       "      <td>4/12/2016 7:21:05 AM</td>\n",
       "      <td>102</td>\n",
       "    </tr>\n",
       "    <tr>\n",
       "      <th>2</th>\n",
       "      <td>2022484408</td>\n",
       "      <td>4/12/2016 7:21:10 AM</td>\n",
       "      <td>105</td>\n",
       "    </tr>\n",
       "    <tr>\n",
       "      <th>3</th>\n",
       "      <td>2022484408</td>\n",
       "      <td>4/12/2016 7:21:20 AM</td>\n",
       "      <td>103</td>\n",
       "    </tr>\n",
       "    <tr>\n",
       "      <th>4</th>\n",
       "      <td>2022484408</td>\n",
       "      <td>4/12/2016 7:21:25 AM</td>\n",
       "      <td>101</td>\n",
       "    </tr>\n",
       "  </tbody>\n",
       "</table>\n",
       "</div>"
      ],
      "text/plain": [
       "           Id                  Time  Value\n",
       "0  2022484408  4/12/2016 7:21:00 AM     97\n",
       "1  2022484408  4/12/2016 7:21:05 AM    102\n",
       "2  2022484408  4/12/2016 7:21:10 AM    105\n",
       "3  2022484408  4/12/2016 7:21:20 AM    103\n",
       "4  2022484408  4/12/2016 7:21:25 AM    101"
      ]
     },
     "execution_count": 5,
     "metadata": {},
     "output_type": "execute_result"
    }
   ],
   "source": [
    "heartrateSeconds.head()"
   ]
  },
  {
   "cell_type": "code",
   "execution_count": 6,
   "id": "legitimate-disco",
   "metadata": {
    "execution": {
     "iopub.execute_input": "2023-04-08T16:15:42.482051Z",
     "iopub.status.busy": "2023-04-08T16:15:42.481044Z",
     "iopub.status.idle": "2023-04-08T16:15:42.487055Z",
     "shell.execute_reply": "2023-04-08T16:15:42.487789Z",
     "shell.execute_reply.started": "2021-07-05T09:08:58.97898Z"
    },
    "papermill": {
     "duration": 0.066934,
     "end_time": "2023-04-08T16:15:42.488015",
     "exception": false,
     "start_time": "2023-04-08T16:15:42.421081",
     "status": "completed"
    },
    "tags": []
   },
   "outputs": [
    {
     "data": {
      "text/html": [
       "<div>\n",
       "<style scoped>\n",
       "    .dataframe tbody tr th:only-of-type {\n",
       "        vertical-align: middle;\n",
       "    }\n",
       "\n",
       "    .dataframe tbody tr th {\n",
       "        vertical-align: top;\n",
       "    }\n",
       "\n",
       "    .dataframe thead th {\n",
       "        text-align: right;\n",
       "    }\n",
       "</style>\n",
       "<table border=\"1\" class=\"dataframe\">\n",
       "  <thead>\n",
       "    <tr style=\"text-align: right;\">\n",
       "      <th></th>\n",
       "      <th>Id</th>\n",
       "      <th>ActivityDay</th>\n",
       "      <th>StepTotal</th>\n",
       "    </tr>\n",
       "  </thead>\n",
       "  <tbody>\n",
       "    <tr>\n",
       "      <th>0</th>\n",
       "      <td>1503960366</td>\n",
       "      <td>4/12/2016</td>\n",
       "      <td>13162</td>\n",
       "    </tr>\n",
       "    <tr>\n",
       "      <th>1</th>\n",
       "      <td>1503960366</td>\n",
       "      <td>4/13/2016</td>\n",
       "      <td>10735</td>\n",
       "    </tr>\n",
       "    <tr>\n",
       "      <th>2</th>\n",
       "      <td>1503960366</td>\n",
       "      <td>4/14/2016</td>\n",
       "      <td>10460</td>\n",
       "    </tr>\n",
       "    <tr>\n",
       "      <th>3</th>\n",
       "      <td>1503960366</td>\n",
       "      <td>4/15/2016</td>\n",
       "      <td>9762</td>\n",
       "    </tr>\n",
       "    <tr>\n",
       "      <th>4</th>\n",
       "      <td>1503960366</td>\n",
       "      <td>4/16/2016</td>\n",
       "      <td>12669</td>\n",
       "    </tr>\n",
       "  </tbody>\n",
       "</table>\n",
       "</div>"
      ],
      "text/plain": [
       "           Id ActivityDay  StepTotal\n",
       "0  1503960366   4/12/2016      13162\n",
       "1  1503960366   4/13/2016      10735\n",
       "2  1503960366   4/14/2016      10460\n",
       "3  1503960366   4/15/2016       9762\n",
       "4  1503960366   4/16/2016      12669"
      ]
     },
     "execution_count": 6,
     "metadata": {},
     "output_type": "execute_result"
    }
   ],
   "source": [
    "dailySteps.head()"
   ]
  },
  {
   "cell_type": "code",
   "execution_count": 7,
   "id": "solid-kazakhstan",
   "metadata": {
    "execution": {
     "iopub.execute_input": "2023-04-08T16:15:42.603544Z",
     "iopub.status.busy": "2023-04-08T16:15:42.602850Z",
     "iopub.status.idle": "2023-04-08T16:15:42.614263Z",
     "shell.execute_reply": "2023-04-08T16:15:42.613671Z",
     "shell.execute_reply.started": "2021-07-05T09:08:59.000706Z"
    },
    "papermill": {
     "duration": 0.069111,
     "end_time": "2023-04-08T16:15:42.614414",
     "exception": false,
     "start_time": "2023-04-08T16:15:42.545303",
     "status": "completed"
    },
    "tags": []
   },
   "outputs": [
    {
     "data": {
      "text/html": [
       "<div>\n",
       "<style scoped>\n",
       "    .dataframe tbody tr th:only-of-type {\n",
       "        vertical-align: middle;\n",
       "    }\n",
       "\n",
       "    .dataframe tbody tr th {\n",
       "        vertical-align: top;\n",
       "    }\n",
       "\n",
       "    .dataframe thead th {\n",
       "        text-align: right;\n",
       "    }\n",
       "</style>\n",
       "<table border=\"1\" class=\"dataframe\">\n",
       "  <thead>\n",
       "    <tr style=\"text-align: right;\">\n",
       "      <th></th>\n",
       "      <th>Id</th>\n",
       "      <th>ActivityDay</th>\n",
       "      <th>Calories</th>\n",
       "    </tr>\n",
       "  </thead>\n",
       "  <tbody>\n",
       "    <tr>\n",
       "      <th>0</th>\n",
       "      <td>1503960366</td>\n",
       "      <td>4/12/2016</td>\n",
       "      <td>1985</td>\n",
       "    </tr>\n",
       "    <tr>\n",
       "      <th>1</th>\n",
       "      <td>1503960366</td>\n",
       "      <td>4/13/2016</td>\n",
       "      <td>1797</td>\n",
       "    </tr>\n",
       "    <tr>\n",
       "      <th>2</th>\n",
       "      <td>1503960366</td>\n",
       "      <td>4/14/2016</td>\n",
       "      <td>1776</td>\n",
       "    </tr>\n",
       "    <tr>\n",
       "      <th>3</th>\n",
       "      <td>1503960366</td>\n",
       "      <td>4/15/2016</td>\n",
       "      <td>1745</td>\n",
       "    </tr>\n",
       "    <tr>\n",
       "      <th>4</th>\n",
       "      <td>1503960366</td>\n",
       "      <td>4/16/2016</td>\n",
       "      <td>1863</td>\n",
       "    </tr>\n",
       "  </tbody>\n",
       "</table>\n",
       "</div>"
      ],
      "text/plain": [
       "           Id ActivityDay  Calories\n",
       "0  1503960366   4/12/2016      1985\n",
       "1  1503960366   4/13/2016      1797\n",
       "2  1503960366   4/14/2016      1776\n",
       "3  1503960366   4/15/2016      1745\n",
       "4  1503960366   4/16/2016      1863"
      ]
     },
     "execution_count": 7,
     "metadata": {},
     "output_type": "execute_result"
    }
   ],
   "source": [
    "dailyCalories.head()"
   ]
  },
  {
   "cell_type": "code",
   "execution_count": 8,
   "id": "orange-malaysia",
   "metadata": {
    "execution": {
     "iopub.execute_input": "2023-04-08T16:15:42.732635Z",
     "iopub.status.busy": "2023-04-08T16:15:42.731668Z",
     "iopub.status.idle": "2023-04-08T16:15:42.742751Z",
     "shell.execute_reply": "2023-04-08T16:15:42.743225Z",
     "shell.execute_reply.started": "2021-07-05T09:08:59.019749Z"
    },
    "papermill": {
     "duration": 0.070705,
     "end_time": "2023-04-08T16:15:42.743409",
     "exception": false,
     "start_time": "2023-04-08T16:15:42.672704",
     "status": "completed"
    },
    "tags": []
   },
   "outputs": [
    {
     "data": {
      "text/html": [
       "<div>\n",
       "<style scoped>\n",
       "    .dataframe tbody tr th:only-of-type {\n",
       "        vertical-align: middle;\n",
       "    }\n",
       "\n",
       "    .dataframe tbody tr th {\n",
       "        vertical-align: top;\n",
       "    }\n",
       "\n",
       "    .dataframe thead th {\n",
       "        text-align: right;\n",
       "    }\n",
       "</style>\n",
       "<table border=\"1\" class=\"dataframe\">\n",
       "  <thead>\n",
       "    <tr style=\"text-align: right;\">\n",
       "      <th></th>\n",
       "      <th>Id</th>\n",
       "      <th>SleepDay</th>\n",
       "      <th>TotalSleepRecords</th>\n",
       "      <th>TotalMinutesAsleep</th>\n",
       "      <th>TotalTimeInBed</th>\n",
       "    </tr>\n",
       "  </thead>\n",
       "  <tbody>\n",
       "    <tr>\n",
       "      <th>0</th>\n",
       "      <td>1503960366</td>\n",
       "      <td>4/12/2016 12:00:00 AM</td>\n",
       "      <td>1</td>\n",
       "      <td>327</td>\n",
       "      <td>346</td>\n",
       "    </tr>\n",
       "    <tr>\n",
       "      <th>1</th>\n",
       "      <td>1503960366</td>\n",
       "      <td>4/13/2016 12:00:00 AM</td>\n",
       "      <td>2</td>\n",
       "      <td>384</td>\n",
       "      <td>407</td>\n",
       "    </tr>\n",
       "    <tr>\n",
       "      <th>2</th>\n",
       "      <td>1503960366</td>\n",
       "      <td>4/15/2016 12:00:00 AM</td>\n",
       "      <td>1</td>\n",
       "      <td>412</td>\n",
       "      <td>442</td>\n",
       "    </tr>\n",
       "    <tr>\n",
       "      <th>3</th>\n",
       "      <td>1503960366</td>\n",
       "      <td>4/16/2016 12:00:00 AM</td>\n",
       "      <td>2</td>\n",
       "      <td>340</td>\n",
       "      <td>367</td>\n",
       "    </tr>\n",
       "    <tr>\n",
       "      <th>4</th>\n",
       "      <td>1503960366</td>\n",
       "      <td>4/17/2016 12:00:00 AM</td>\n",
       "      <td>1</td>\n",
       "      <td>700</td>\n",
       "      <td>712</td>\n",
       "    </tr>\n",
       "  </tbody>\n",
       "</table>\n",
       "</div>"
      ],
      "text/plain": [
       "           Id               SleepDay  TotalSleepRecords  TotalMinutesAsleep  \\\n",
       "0  1503960366  4/12/2016 12:00:00 AM                  1                 327   \n",
       "1  1503960366  4/13/2016 12:00:00 AM                  2                 384   \n",
       "2  1503960366  4/15/2016 12:00:00 AM                  1                 412   \n",
       "3  1503960366  4/16/2016 12:00:00 AM                  2                 340   \n",
       "4  1503960366  4/17/2016 12:00:00 AM                  1                 700   \n",
       "\n",
       "   TotalTimeInBed  \n",
       "0             346  \n",
       "1             407  \n",
       "2             442  \n",
       "3             367  \n",
       "4             712  "
      ]
     },
     "execution_count": 8,
     "metadata": {},
     "output_type": "execute_result"
    }
   ],
   "source": [
    "# sleepDay.shape (413, 5)\n",
    "sleepDay.head()"
   ]
  },
  {
   "cell_type": "code",
   "execution_count": 9,
   "id": "multiple-tokyo",
   "metadata": {
    "execution": {
     "iopub.execute_input": "2023-04-08T16:15:42.866563Z",
     "iopub.status.busy": "2023-04-08T16:15:42.865214Z",
     "iopub.status.idle": "2023-04-08T16:15:42.876617Z",
     "shell.execute_reply": "2023-04-08T16:15:42.877128Z",
     "shell.execute_reply.started": "2021-07-05T09:08:59.036606Z"
    },
    "papermill": {
     "duration": 0.073848,
     "end_time": "2023-04-08T16:15:42.877322",
     "exception": false,
     "start_time": "2023-04-08T16:15:42.803474",
     "status": "completed"
    },
    "tags": []
   },
   "outputs": [
    {
     "data": {
      "text/html": [
       "<div>\n",
       "<style scoped>\n",
       "    .dataframe tbody tr th:only-of-type {\n",
       "        vertical-align: middle;\n",
       "    }\n",
       "\n",
       "    .dataframe tbody tr th {\n",
       "        vertical-align: top;\n",
       "    }\n",
       "\n",
       "    .dataframe thead th {\n",
       "        text-align: right;\n",
       "    }\n",
       "</style>\n",
       "<table border=\"1\" class=\"dataframe\">\n",
       "  <thead>\n",
       "    <tr style=\"text-align: right;\">\n",
       "      <th></th>\n",
       "      <th>Id</th>\n",
       "      <th>date</th>\n",
       "      <th>value</th>\n",
       "      <th>logId</th>\n",
       "    </tr>\n",
       "  </thead>\n",
       "  <tbody>\n",
       "    <tr>\n",
       "      <th>0</th>\n",
       "      <td>1503960366</td>\n",
       "      <td>4/12/2016 2:47:30 AM</td>\n",
       "      <td>3</td>\n",
       "      <td>11380564589</td>\n",
       "    </tr>\n",
       "    <tr>\n",
       "      <th>1</th>\n",
       "      <td>1503960366</td>\n",
       "      <td>4/12/2016 2:48:30 AM</td>\n",
       "      <td>2</td>\n",
       "      <td>11380564589</td>\n",
       "    </tr>\n",
       "    <tr>\n",
       "      <th>2</th>\n",
       "      <td>1503960366</td>\n",
       "      <td>4/12/2016 2:49:30 AM</td>\n",
       "      <td>1</td>\n",
       "      <td>11380564589</td>\n",
       "    </tr>\n",
       "    <tr>\n",
       "      <th>3</th>\n",
       "      <td>1503960366</td>\n",
       "      <td>4/12/2016 2:50:30 AM</td>\n",
       "      <td>1</td>\n",
       "      <td>11380564589</td>\n",
       "    </tr>\n",
       "    <tr>\n",
       "      <th>4</th>\n",
       "      <td>1503960366</td>\n",
       "      <td>4/12/2016 2:51:30 AM</td>\n",
       "      <td>1</td>\n",
       "      <td>11380564589</td>\n",
       "    </tr>\n",
       "  </tbody>\n",
       "</table>\n",
       "</div>"
      ],
      "text/plain": [
       "           Id                  date  value        logId\n",
       "0  1503960366  4/12/2016 2:47:30 AM      3  11380564589\n",
       "1  1503960366  4/12/2016 2:48:30 AM      2  11380564589\n",
       "2  1503960366  4/12/2016 2:49:30 AM      1  11380564589\n",
       "3  1503960366  4/12/2016 2:50:30 AM      1  11380564589\n",
       "4  1503960366  4/12/2016 2:51:30 AM      1  11380564589"
      ]
     },
     "execution_count": 9,
     "metadata": {},
     "output_type": "execute_result"
    }
   ],
   "source": [
    "minuteSleep.head()"
   ]
  },
  {
   "cell_type": "code",
   "execution_count": 10,
   "id": "numerous-stewart",
   "metadata": {
    "execution": {
     "iopub.execute_input": "2023-04-08T16:15:42.994161Z",
     "iopub.status.busy": "2023-04-08T16:15:42.993131Z",
     "iopub.status.idle": "2023-04-08T16:15:43.014887Z",
     "shell.execute_reply": "2023-04-08T16:15:43.014282Z",
     "shell.execute_reply.started": "2021-07-05T09:08:59.053144Z"
    },
    "papermill": {
     "duration": 0.081132,
     "end_time": "2023-04-08T16:15:43.015039",
     "exception": false,
     "start_time": "2023-04-08T16:15:42.933907",
     "status": "completed"
    },
    "tags": []
   },
   "outputs": [
    {
     "data": {
      "text/html": [
       "<div>\n",
       "<style scoped>\n",
       "    .dataframe tbody tr th:only-of-type {\n",
       "        vertical-align: middle;\n",
       "    }\n",
       "\n",
       "    .dataframe tbody tr th {\n",
       "        vertical-align: top;\n",
       "    }\n",
       "\n",
       "    .dataframe thead th {\n",
       "        text-align: right;\n",
       "    }\n",
       "</style>\n",
       "<table border=\"1\" class=\"dataframe\">\n",
       "  <thead>\n",
       "    <tr style=\"text-align: right;\">\n",
       "      <th></th>\n",
       "      <th>Id</th>\n",
       "      <th>ActivityDate</th>\n",
       "      <th>TotalSteps</th>\n",
       "      <th>TotalDistance</th>\n",
       "      <th>TrackerDistance</th>\n",
       "      <th>LoggedActivitiesDistance</th>\n",
       "      <th>VeryActiveDistance</th>\n",
       "      <th>ModeratelyActiveDistance</th>\n",
       "      <th>LightActiveDistance</th>\n",
       "      <th>SedentaryActiveDistance</th>\n",
       "      <th>VeryActiveMinutes</th>\n",
       "      <th>FairlyActiveMinutes</th>\n",
       "      <th>LightlyActiveMinutes</th>\n",
       "      <th>SedentaryMinutes</th>\n",
       "      <th>Calories</th>\n",
       "    </tr>\n",
       "  </thead>\n",
       "  <tbody>\n",
       "    <tr>\n",
       "      <th>0</th>\n",
       "      <td>1503960366</td>\n",
       "      <td>4/12/2016</td>\n",
       "      <td>13162</td>\n",
       "      <td>8.50</td>\n",
       "      <td>8.50</td>\n",
       "      <td>0.0</td>\n",
       "      <td>1.88</td>\n",
       "      <td>0.55</td>\n",
       "      <td>6.06</td>\n",
       "      <td>0.0</td>\n",
       "      <td>25</td>\n",
       "      <td>13</td>\n",
       "      <td>328</td>\n",
       "      <td>728</td>\n",
       "      <td>1985</td>\n",
       "    </tr>\n",
       "    <tr>\n",
       "      <th>1</th>\n",
       "      <td>1503960366</td>\n",
       "      <td>4/13/2016</td>\n",
       "      <td>10735</td>\n",
       "      <td>6.97</td>\n",
       "      <td>6.97</td>\n",
       "      <td>0.0</td>\n",
       "      <td>1.57</td>\n",
       "      <td>0.69</td>\n",
       "      <td>4.71</td>\n",
       "      <td>0.0</td>\n",
       "      <td>21</td>\n",
       "      <td>19</td>\n",
       "      <td>217</td>\n",
       "      <td>776</td>\n",
       "      <td>1797</td>\n",
       "    </tr>\n",
       "    <tr>\n",
       "      <th>2</th>\n",
       "      <td>1503960366</td>\n",
       "      <td>4/14/2016</td>\n",
       "      <td>10460</td>\n",
       "      <td>6.74</td>\n",
       "      <td>6.74</td>\n",
       "      <td>0.0</td>\n",
       "      <td>2.44</td>\n",
       "      <td>0.40</td>\n",
       "      <td>3.91</td>\n",
       "      <td>0.0</td>\n",
       "      <td>30</td>\n",
       "      <td>11</td>\n",
       "      <td>181</td>\n",
       "      <td>1218</td>\n",
       "      <td>1776</td>\n",
       "    </tr>\n",
       "    <tr>\n",
       "      <th>3</th>\n",
       "      <td>1503960366</td>\n",
       "      <td>4/15/2016</td>\n",
       "      <td>9762</td>\n",
       "      <td>6.28</td>\n",
       "      <td>6.28</td>\n",
       "      <td>0.0</td>\n",
       "      <td>2.14</td>\n",
       "      <td>1.26</td>\n",
       "      <td>2.83</td>\n",
       "      <td>0.0</td>\n",
       "      <td>29</td>\n",
       "      <td>34</td>\n",
       "      <td>209</td>\n",
       "      <td>726</td>\n",
       "      <td>1745</td>\n",
       "    </tr>\n",
       "    <tr>\n",
       "      <th>4</th>\n",
       "      <td>1503960366</td>\n",
       "      <td>4/16/2016</td>\n",
       "      <td>12669</td>\n",
       "      <td>8.16</td>\n",
       "      <td>8.16</td>\n",
       "      <td>0.0</td>\n",
       "      <td>2.71</td>\n",
       "      <td>0.41</td>\n",
       "      <td>5.04</td>\n",
       "      <td>0.0</td>\n",
       "      <td>36</td>\n",
       "      <td>10</td>\n",
       "      <td>221</td>\n",
       "      <td>773</td>\n",
       "      <td>1863</td>\n",
       "    </tr>\n",
       "  </tbody>\n",
       "</table>\n",
       "</div>"
      ],
      "text/plain": [
       "           Id ActivityDate  TotalSteps  TotalDistance  TrackerDistance  \\\n",
       "0  1503960366    4/12/2016       13162           8.50             8.50   \n",
       "1  1503960366    4/13/2016       10735           6.97             6.97   \n",
       "2  1503960366    4/14/2016       10460           6.74             6.74   \n",
       "3  1503960366    4/15/2016        9762           6.28             6.28   \n",
       "4  1503960366    4/16/2016       12669           8.16             8.16   \n",
       "\n",
       "   LoggedActivitiesDistance  VeryActiveDistance  ModeratelyActiveDistance  \\\n",
       "0                       0.0                1.88                      0.55   \n",
       "1                       0.0                1.57                      0.69   \n",
       "2                       0.0                2.44                      0.40   \n",
       "3                       0.0                2.14                      1.26   \n",
       "4                       0.0                2.71                      0.41   \n",
       "\n",
       "   LightActiveDistance  SedentaryActiveDistance  VeryActiveMinutes  \\\n",
       "0                 6.06                      0.0                 25   \n",
       "1                 4.71                      0.0                 21   \n",
       "2                 3.91                      0.0                 30   \n",
       "3                 2.83                      0.0                 29   \n",
       "4                 5.04                      0.0                 36   \n",
       "\n",
       "   FairlyActiveMinutes  LightlyActiveMinutes  SedentaryMinutes  Calories  \n",
       "0                   13                   328               728      1985  \n",
       "1                   19                   217               776      1797  \n",
       "2                   11                   181              1218      1776  \n",
       "3                   34                   209               726      1745  \n",
       "4                   10                   221               773      1863  "
      ]
     },
     "execution_count": 10,
     "metadata": {},
     "output_type": "execute_result"
    }
   ],
   "source": [
    "dailyActivity.head()"
   ]
  },
  {
   "cell_type": "code",
   "execution_count": 11,
   "id": "rolled-orbit",
   "metadata": {
    "execution": {
     "iopub.execute_input": "2023-04-08T16:15:43.135144Z",
     "iopub.status.busy": "2023-04-08T16:15:43.134159Z",
     "iopub.status.idle": "2023-04-08T16:15:43.145026Z",
     "shell.execute_reply": "2023-04-08T16:15:43.145590Z",
     "shell.execute_reply.started": "2021-07-05T09:08:59.084184Z"
    },
    "papermill": {
     "duration": 0.07394,
     "end_time": "2023-04-08T16:15:43.145778",
     "exception": false,
     "start_time": "2023-04-08T16:15:43.071838",
     "status": "completed"
    },
    "tags": []
   },
   "outputs": [
    {
     "data": {
      "text/html": [
       "<div>\n",
       "<style scoped>\n",
       "    .dataframe tbody tr th:only-of-type {\n",
       "        vertical-align: middle;\n",
       "    }\n",
       "\n",
       "    .dataframe tbody tr th {\n",
       "        vertical-align: top;\n",
       "    }\n",
       "\n",
       "    .dataframe thead th {\n",
       "        text-align: right;\n",
       "    }\n",
       "</style>\n",
       "<table border=\"1\" class=\"dataframe\">\n",
       "  <thead>\n",
       "    <tr style=\"text-align: right;\">\n",
       "      <th></th>\n",
       "      <th>Id</th>\n",
       "      <th>ActivityHour</th>\n",
       "      <th>StepTotal</th>\n",
       "    </tr>\n",
       "  </thead>\n",
       "  <tbody>\n",
       "    <tr>\n",
       "      <th>0</th>\n",
       "      <td>1503960366</td>\n",
       "      <td>4/12/2016 12:00:00 AM</td>\n",
       "      <td>373</td>\n",
       "    </tr>\n",
       "    <tr>\n",
       "      <th>1</th>\n",
       "      <td>1503960366</td>\n",
       "      <td>4/12/2016 1:00:00 AM</td>\n",
       "      <td>160</td>\n",
       "    </tr>\n",
       "    <tr>\n",
       "      <th>2</th>\n",
       "      <td>1503960366</td>\n",
       "      <td>4/12/2016 2:00:00 AM</td>\n",
       "      <td>151</td>\n",
       "    </tr>\n",
       "    <tr>\n",
       "      <th>3</th>\n",
       "      <td>1503960366</td>\n",
       "      <td>4/12/2016 3:00:00 AM</td>\n",
       "      <td>0</td>\n",
       "    </tr>\n",
       "    <tr>\n",
       "      <th>4</th>\n",
       "      <td>1503960366</td>\n",
       "      <td>4/12/2016 4:00:00 AM</td>\n",
       "      <td>0</td>\n",
       "    </tr>\n",
       "  </tbody>\n",
       "</table>\n",
       "</div>"
      ],
      "text/plain": [
       "           Id           ActivityHour  StepTotal\n",
       "0  1503960366  4/12/2016 12:00:00 AM        373\n",
       "1  1503960366   4/12/2016 1:00:00 AM        160\n",
       "2  1503960366   4/12/2016 2:00:00 AM        151\n",
       "3  1503960366   4/12/2016 3:00:00 AM          0\n",
       "4  1503960366   4/12/2016 4:00:00 AM          0"
      ]
     },
     "execution_count": 11,
     "metadata": {},
     "output_type": "execute_result"
    }
   ],
   "source": [
    "stepsDf.head()"
   ]
  },
  {
   "cell_type": "code",
   "execution_count": 12,
   "id": "bulgarian-tactics",
   "metadata": {
    "execution": {
     "iopub.execute_input": "2023-04-08T16:15:43.272665Z",
     "iopub.status.busy": "2023-04-08T16:15:43.271733Z",
     "iopub.status.idle": "2023-04-08T16:15:43.275301Z",
     "shell.execute_reply": "2023-04-08T16:15:43.275816Z",
     "shell.execute_reply.started": "2021-07-05T09:08:59.099491Z"
    },
    "papermill": {
     "duration": 0.0724,
     "end_time": "2023-04-08T16:15:43.275994",
     "exception": false,
     "start_time": "2023-04-08T16:15:43.203594",
     "status": "completed"
    },
    "tags": []
   },
   "outputs": [
    {
     "data": {
      "text/html": [
       "<div>\n",
       "<style scoped>\n",
       "    .dataframe tbody tr th:only-of-type {\n",
       "        vertical-align: middle;\n",
       "    }\n",
       "\n",
       "    .dataframe tbody tr th {\n",
       "        vertical-align: top;\n",
       "    }\n",
       "\n",
       "    .dataframe thead th {\n",
       "        text-align: right;\n",
       "    }\n",
       "</style>\n",
       "<table border=\"1\" class=\"dataframe\">\n",
       "  <thead>\n",
       "    <tr style=\"text-align: right;\">\n",
       "      <th></th>\n",
       "      <th>Id</th>\n",
       "      <th>ActivityHour</th>\n",
       "      <th>Calories</th>\n",
       "    </tr>\n",
       "  </thead>\n",
       "  <tbody>\n",
       "    <tr>\n",
       "      <th>0</th>\n",
       "      <td>1503960366</td>\n",
       "      <td>4/12/2016 12:00:00 AM</td>\n",
       "      <td>81</td>\n",
       "    </tr>\n",
       "    <tr>\n",
       "      <th>1</th>\n",
       "      <td>1503960366</td>\n",
       "      <td>4/12/2016 1:00:00 AM</td>\n",
       "      <td>61</td>\n",
       "    </tr>\n",
       "    <tr>\n",
       "      <th>2</th>\n",
       "      <td>1503960366</td>\n",
       "      <td>4/12/2016 2:00:00 AM</td>\n",
       "      <td>59</td>\n",
       "    </tr>\n",
       "    <tr>\n",
       "      <th>3</th>\n",
       "      <td>1503960366</td>\n",
       "      <td>4/12/2016 3:00:00 AM</td>\n",
       "      <td>47</td>\n",
       "    </tr>\n",
       "    <tr>\n",
       "      <th>4</th>\n",
       "      <td>1503960366</td>\n",
       "      <td>4/12/2016 4:00:00 AM</td>\n",
       "      <td>48</td>\n",
       "    </tr>\n",
       "  </tbody>\n",
       "</table>\n",
       "</div>"
      ],
      "text/plain": [
       "           Id           ActivityHour  Calories\n",
       "0  1503960366  4/12/2016 12:00:00 AM        81\n",
       "1  1503960366   4/12/2016 1:00:00 AM        61\n",
       "2  1503960366   4/12/2016 2:00:00 AM        59\n",
       "3  1503960366   4/12/2016 3:00:00 AM        47\n",
       "4  1503960366   4/12/2016 4:00:00 AM        48"
      ]
     },
     "execution_count": 12,
     "metadata": {},
     "output_type": "execute_result"
    }
   ],
   "source": [
    "hourlyCalories.head()"
   ]
  },
  {
   "cell_type": "code",
   "execution_count": 13,
   "id": "celtic-limitation",
   "metadata": {
    "execution": {
     "iopub.execute_input": "2023-04-08T16:15:43.394530Z",
     "iopub.status.busy": "2023-04-08T16:15:43.393604Z",
     "iopub.status.idle": "2023-04-08T16:15:43.408033Z",
     "shell.execute_reply": "2023-04-08T16:15:43.408524Z",
     "shell.execute_reply.started": "2021-07-05T09:08:59.118484Z"
    },
    "papermill": {
     "duration": 0.075987,
     "end_time": "2023-04-08T16:15:43.408711",
     "exception": false,
     "start_time": "2023-04-08T16:15:43.332724",
     "status": "completed"
    },
    "tags": []
   },
   "outputs": [
    {
     "data": {
      "text/html": [
       "<div>\n",
       "<style scoped>\n",
       "    .dataframe tbody tr th:only-of-type {\n",
       "        vertical-align: middle;\n",
       "    }\n",
       "\n",
       "    .dataframe tbody tr th {\n",
       "        vertical-align: top;\n",
       "    }\n",
       "\n",
       "    .dataframe thead th {\n",
       "        text-align: right;\n",
       "    }\n",
       "</style>\n",
       "<table border=\"1\" class=\"dataframe\">\n",
       "  <thead>\n",
       "    <tr style=\"text-align: right;\">\n",
       "      <th></th>\n",
       "      <th>Id</th>\n",
       "      <th>Date</th>\n",
       "      <th>WeightKg</th>\n",
       "      <th>WeightPounds</th>\n",
       "      <th>Fat</th>\n",
       "      <th>BMI</th>\n",
       "      <th>IsManualReport</th>\n",
       "      <th>LogId</th>\n",
       "    </tr>\n",
       "  </thead>\n",
       "  <tbody>\n",
       "    <tr>\n",
       "      <th>0</th>\n",
       "      <td>1503960366</td>\n",
       "      <td>5/2/2016 11:59:59 PM</td>\n",
       "      <td>52.599998</td>\n",
       "      <td>115.963147</td>\n",
       "      <td>22.0</td>\n",
       "      <td>22.650000</td>\n",
       "      <td>True</td>\n",
       "      <td>1462233599000</td>\n",
       "    </tr>\n",
       "    <tr>\n",
       "      <th>1</th>\n",
       "      <td>1503960366</td>\n",
       "      <td>5/3/2016 11:59:59 PM</td>\n",
       "      <td>52.599998</td>\n",
       "      <td>115.963147</td>\n",
       "      <td>NaN</td>\n",
       "      <td>22.650000</td>\n",
       "      <td>True</td>\n",
       "      <td>1462319999000</td>\n",
       "    </tr>\n",
       "    <tr>\n",
       "      <th>2</th>\n",
       "      <td>1927972279</td>\n",
       "      <td>4/13/2016 1:08:52 AM</td>\n",
       "      <td>133.500000</td>\n",
       "      <td>294.317120</td>\n",
       "      <td>NaN</td>\n",
       "      <td>47.540001</td>\n",
       "      <td>False</td>\n",
       "      <td>1460509732000</td>\n",
       "    </tr>\n",
       "    <tr>\n",
       "      <th>3</th>\n",
       "      <td>2873212765</td>\n",
       "      <td>4/21/2016 11:59:59 PM</td>\n",
       "      <td>56.700001</td>\n",
       "      <td>125.002104</td>\n",
       "      <td>NaN</td>\n",
       "      <td>21.450001</td>\n",
       "      <td>True</td>\n",
       "      <td>1461283199000</td>\n",
       "    </tr>\n",
       "    <tr>\n",
       "      <th>4</th>\n",
       "      <td>2873212765</td>\n",
       "      <td>5/12/2016 11:59:59 PM</td>\n",
       "      <td>57.299999</td>\n",
       "      <td>126.324875</td>\n",
       "      <td>NaN</td>\n",
       "      <td>21.690001</td>\n",
       "      <td>True</td>\n",
       "      <td>1463097599000</td>\n",
       "    </tr>\n",
       "  </tbody>\n",
       "</table>\n",
       "</div>"
      ],
      "text/plain": [
       "           Id                   Date    WeightKg  WeightPounds   Fat  \\\n",
       "0  1503960366   5/2/2016 11:59:59 PM   52.599998    115.963147  22.0   \n",
       "1  1503960366   5/3/2016 11:59:59 PM   52.599998    115.963147   NaN   \n",
       "2  1927972279   4/13/2016 1:08:52 AM  133.500000    294.317120   NaN   \n",
       "3  2873212765  4/21/2016 11:59:59 PM   56.700001    125.002104   NaN   \n",
       "4  2873212765  5/12/2016 11:59:59 PM   57.299999    126.324875   NaN   \n",
       "\n",
       "         BMI  IsManualReport          LogId  \n",
       "0  22.650000            True  1462233599000  \n",
       "1  22.650000            True  1462319999000  \n",
       "2  47.540001           False  1460509732000  \n",
       "3  21.450001            True  1461283199000  \n",
       "4  21.690001            True  1463097599000  "
      ]
     },
     "execution_count": 13,
     "metadata": {},
     "output_type": "execute_result"
    }
   ],
   "source": [
    "weightLog.head()"
   ]
  },
  {
   "cell_type": "code",
   "execution_count": 14,
   "id": "positive-hebrew",
   "metadata": {
    "execution": {
     "iopub.execute_input": "2023-04-08T16:15:43.526832Z",
     "iopub.status.busy": "2023-04-08T16:15:43.525882Z",
     "iopub.status.idle": "2023-04-08T16:15:43.546512Z",
     "shell.execute_reply": "2023-04-08T16:15:43.545812Z",
     "shell.execute_reply.started": "2021-07-05T09:08:59.143556Z"
    },
    "papermill": {
     "duration": 0.081151,
     "end_time": "2023-04-08T16:15:43.546669",
     "exception": false,
     "start_time": "2023-04-08T16:15:43.465518",
     "status": "completed"
    },
    "tags": []
   },
   "outputs": [
    {
     "data": {
      "text/html": [
       "<div>\n",
       "<style scoped>\n",
       "    .dataframe tbody tr th:only-of-type {\n",
       "        vertical-align: middle;\n",
       "    }\n",
       "\n",
       "    .dataframe tbody tr th {\n",
       "        vertical-align: top;\n",
       "    }\n",
       "\n",
       "    .dataframe thead th {\n",
       "        text-align: right;\n",
       "    }\n",
       "</style>\n",
       "<table border=\"1\" class=\"dataframe\">\n",
       "  <thead>\n",
       "    <tr style=\"text-align: right;\">\n",
       "      <th></th>\n",
       "      <th>Id</th>\n",
       "      <th>ActivityDate</th>\n",
       "      <th>TotalSteps</th>\n",
       "      <th>TotalDistance</th>\n",
       "      <th>TrackerDistance</th>\n",
       "      <th>LoggedActivitiesDistance</th>\n",
       "      <th>VeryActiveDistance</th>\n",
       "      <th>ModeratelyActiveDistance</th>\n",
       "      <th>LightActiveDistance</th>\n",
       "      <th>SedentaryActiveDistance</th>\n",
       "      <th>VeryActiveMinutes</th>\n",
       "      <th>FairlyActiveMinutes</th>\n",
       "      <th>LightlyActiveMinutes</th>\n",
       "      <th>SedentaryMinutes</th>\n",
       "      <th>Calories</th>\n",
       "    </tr>\n",
       "  </thead>\n",
       "  <tbody>\n",
       "    <tr>\n",
       "      <th>0</th>\n",
       "      <td>1503960366</td>\n",
       "      <td>4/12/2016</td>\n",
       "      <td>13162</td>\n",
       "      <td>8.50</td>\n",
       "      <td>8.50</td>\n",
       "      <td>0.0</td>\n",
       "      <td>1.88</td>\n",
       "      <td>0.55</td>\n",
       "      <td>6.06</td>\n",
       "      <td>0.0</td>\n",
       "      <td>25</td>\n",
       "      <td>13</td>\n",
       "      <td>328</td>\n",
       "      <td>728</td>\n",
       "      <td>1985</td>\n",
       "    </tr>\n",
       "    <tr>\n",
       "      <th>1</th>\n",
       "      <td>1503960366</td>\n",
       "      <td>4/13/2016</td>\n",
       "      <td>10735</td>\n",
       "      <td>6.97</td>\n",
       "      <td>6.97</td>\n",
       "      <td>0.0</td>\n",
       "      <td>1.57</td>\n",
       "      <td>0.69</td>\n",
       "      <td>4.71</td>\n",
       "      <td>0.0</td>\n",
       "      <td>21</td>\n",
       "      <td>19</td>\n",
       "      <td>217</td>\n",
       "      <td>776</td>\n",
       "      <td>1797</td>\n",
       "    </tr>\n",
       "    <tr>\n",
       "      <th>2</th>\n",
       "      <td>1503960366</td>\n",
       "      <td>4/14/2016</td>\n",
       "      <td>10460</td>\n",
       "      <td>6.74</td>\n",
       "      <td>6.74</td>\n",
       "      <td>0.0</td>\n",
       "      <td>2.44</td>\n",
       "      <td>0.40</td>\n",
       "      <td>3.91</td>\n",
       "      <td>0.0</td>\n",
       "      <td>30</td>\n",
       "      <td>11</td>\n",
       "      <td>181</td>\n",
       "      <td>1218</td>\n",
       "      <td>1776</td>\n",
       "    </tr>\n",
       "    <tr>\n",
       "      <th>3</th>\n",
       "      <td>1503960366</td>\n",
       "      <td>4/15/2016</td>\n",
       "      <td>9762</td>\n",
       "      <td>6.28</td>\n",
       "      <td>6.28</td>\n",
       "      <td>0.0</td>\n",
       "      <td>2.14</td>\n",
       "      <td>1.26</td>\n",
       "      <td>2.83</td>\n",
       "      <td>0.0</td>\n",
       "      <td>29</td>\n",
       "      <td>34</td>\n",
       "      <td>209</td>\n",
       "      <td>726</td>\n",
       "      <td>1745</td>\n",
       "    </tr>\n",
       "    <tr>\n",
       "      <th>4</th>\n",
       "      <td>1503960366</td>\n",
       "      <td>4/16/2016</td>\n",
       "      <td>12669</td>\n",
       "      <td>8.16</td>\n",
       "      <td>8.16</td>\n",
       "      <td>0.0</td>\n",
       "      <td>2.71</td>\n",
       "      <td>0.41</td>\n",
       "      <td>5.04</td>\n",
       "      <td>0.0</td>\n",
       "      <td>36</td>\n",
       "      <td>10</td>\n",
       "      <td>221</td>\n",
       "      <td>773</td>\n",
       "      <td>1863</td>\n",
       "    </tr>\n",
       "  </tbody>\n",
       "</table>\n",
       "</div>"
      ],
      "text/plain": [
       "           Id ActivityDate  TotalSteps  TotalDistance  TrackerDistance  \\\n",
       "0  1503960366    4/12/2016       13162           8.50             8.50   \n",
       "1  1503960366    4/13/2016       10735           6.97             6.97   \n",
       "2  1503960366    4/14/2016       10460           6.74             6.74   \n",
       "3  1503960366    4/15/2016        9762           6.28             6.28   \n",
       "4  1503960366    4/16/2016       12669           8.16             8.16   \n",
       "\n",
       "   LoggedActivitiesDistance  VeryActiveDistance  ModeratelyActiveDistance  \\\n",
       "0                       0.0                1.88                      0.55   \n",
       "1                       0.0                1.57                      0.69   \n",
       "2                       0.0                2.44                      0.40   \n",
       "3                       0.0                2.14                      1.26   \n",
       "4                       0.0                2.71                      0.41   \n",
       "\n",
       "   LightActiveDistance  SedentaryActiveDistance  VeryActiveMinutes  \\\n",
       "0                 6.06                      0.0                 25   \n",
       "1                 4.71                      0.0                 21   \n",
       "2                 3.91                      0.0                 30   \n",
       "3                 2.83                      0.0                 29   \n",
       "4                 5.04                      0.0                 36   \n",
       "\n",
       "   FairlyActiveMinutes  LightlyActiveMinutes  SedentaryMinutes  Calories  \n",
       "0                   13                   328               728      1985  \n",
       "1                   19                   217               776      1797  \n",
       "2                   11                   181              1218      1776  \n",
       "3                   34                   209               726      1745  \n",
       "4                   10                   221               773      1863  "
      ]
     },
     "execution_count": 14,
     "metadata": {},
     "output_type": "execute_result"
    }
   ],
   "source": [
    "dailyActivity.head()"
   ]
  },
  {
   "cell_type": "markdown",
   "id": "republican-malta",
   "metadata": {
    "papermill": {
     "duration": 0.057325,
     "end_time": "2023-04-08T16:15:43.661627",
     "exception": false,
     "start_time": "2023-04-08T16:15:43.604302",
     "status": "completed"
    },
    "tags": []
   },
   "source": [
    "### After taking a look and understanding the datasets available, I've decided to use the above 11 datasets for my analysis. \n",
    "\n",
    "After having an understanding of these available datasets, I have prepared these questions in order to aid myself in the analysis phase. \n",
    "\n",
    "* How active are these users? \n",
    "* What factors contribute to the highest calorie burns? \n",
    "* Have these users been having a good night sleep? Is there a relationship between how active they are and their sleep schedule?\n",
    "* How does the data vary from weekends and weekdays?"
   ]
  },
  {
   "cell_type": "code",
   "execution_count": 15,
   "id": "impressive-kuwait",
   "metadata": {
    "execution": {
     "iopub.execute_input": "2023-04-08T16:15:43.796209Z",
     "iopub.status.busy": "2023-04-08T16:15:43.788544Z",
     "iopub.status.idle": "2023-04-08T16:15:43.800370Z",
     "shell.execute_reply": "2023-04-08T16:15:43.800897Z",
     "shell.execute_reply.started": "2021-07-05T09:08:59.173249Z"
    },
    "papermill": {
     "duration": 0.081312,
     "end_time": "2023-04-08T16:15:43.801079",
     "exception": false,
     "start_time": "2023-04-08T16:15:43.719767",
     "status": "completed"
    },
    "tags": []
   },
   "outputs": [
    {
     "data": {
      "text/html": [
       "<div>\n",
       "<style scoped>\n",
       "    .dataframe tbody tr th:only-of-type {\n",
       "        vertical-align: middle;\n",
       "    }\n",
       "\n",
       "    .dataframe tbody tr th {\n",
       "        vertical-align: top;\n",
       "    }\n",
       "\n",
       "    .dataframe thead th {\n",
       "        text-align: right;\n",
       "    }\n",
       "</style>\n",
       "<table border=\"1\" class=\"dataframe\">\n",
       "  <thead>\n",
       "    <tr style=\"text-align: right;\">\n",
       "      <th></th>\n",
       "      <th>Id</th>\n",
       "      <th>ActivityDate</th>\n",
       "      <th>TotalSteps</th>\n",
       "      <th>TotalDistance</th>\n",
       "      <th>TrackerDistance</th>\n",
       "      <th>LoggedActivitiesDistance</th>\n",
       "      <th>VeryActiveDistance</th>\n",
       "      <th>ModeratelyActiveDistance</th>\n",
       "      <th>LightActiveDistance</th>\n",
       "      <th>SedentaryActiveDistance</th>\n",
       "      <th>VeryActiveMinutes</th>\n",
       "      <th>FairlyActiveMinutes</th>\n",
       "      <th>LightlyActiveMinutes</th>\n",
       "      <th>SedentaryMinutes</th>\n",
       "      <th>Calories</th>\n",
       "    </tr>\n",
       "  </thead>\n",
       "  <tbody>\n",
       "    <tr>\n",
       "      <th>0</th>\n",
       "      <td>1503960366</td>\n",
       "      <td>4/12/2016</td>\n",
       "      <td>13162</td>\n",
       "      <td>8.50</td>\n",
       "      <td>8.50</td>\n",
       "      <td>0.0</td>\n",
       "      <td>1.88</td>\n",
       "      <td>0.55</td>\n",
       "      <td>6.06</td>\n",
       "      <td>0.0</td>\n",
       "      <td>25</td>\n",
       "      <td>13</td>\n",
       "      <td>328</td>\n",
       "      <td>728</td>\n",
       "      <td>1985</td>\n",
       "    </tr>\n",
       "    <tr>\n",
       "      <th>1</th>\n",
       "      <td>1503960366</td>\n",
       "      <td>4/13/2016</td>\n",
       "      <td>10735</td>\n",
       "      <td>6.97</td>\n",
       "      <td>6.97</td>\n",
       "      <td>0.0</td>\n",
       "      <td>1.57</td>\n",
       "      <td>0.69</td>\n",
       "      <td>4.71</td>\n",
       "      <td>0.0</td>\n",
       "      <td>21</td>\n",
       "      <td>19</td>\n",
       "      <td>217</td>\n",
       "      <td>776</td>\n",
       "      <td>1797</td>\n",
       "    </tr>\n",
       "    <tr>\n",
       "      <th>2</th>\n",
       "      <td>1503960366</td>\n",
       "      <td>4/14/2016</td>\n",
       "      <td>10460</td>\n",
       "      <td>6.74</td>\n",
       "      <td>6.74</td>\n",
       "      <td>0.0</td>\n",
       "      <td>2.44</td>\n",
       "      <td>0.40</td>\n",
       "      <td>3.91</td>\n",
       "      <td>0.0</td>\n",
       "      <td>30</td>\n",
       "      <td>11</td>\n",
       "      <td>181</td>\n",
       "      <td>1218</td>\n",
       "      <td>1776</td>\n",
       "    </tr>\n",
       "    <tr>\n",
       "      <th>3</th>\n",
       "      <td>1503960366</td>\n",
       "      <td>4/15/2016</td>\n",
       "      <td>9762</td>\n",
       "      <td>6.28</td>\n",
       "      <td>6.28</td>\n",
       "      <td>0.0</td>\n",
       "      <td>2.14</td>\n",
       "      <td>1.26</td>\n",
       "      <td>2.83</td>\n",
       "      <td>0.0</td>\n",
       "      <td>29</td>\n",
       "      <td>34</td>\n",
       "      <td>209</td>\n",
       "      <td>726</td>\n",
       "      <td>1745</td>\n",
       "    </tr>\n",
       "    <tr>\n",
       "      <th>4</th>\n",
       "      <td>1503960366</td>\n",
       "      <td>4/16/2016</td>\n",
       "      <td>12669</td>\n",
       "      <td>8.16</td>\n",
       "      <td>8.16</td>\n",
       "      <td>0.0</td>\n",
       "      <td>2.71</td>\n",
       "      <td>0.41</td>\n",
       "      <td>5.04</td>\n",
       "      <td>0.0</td>\n",
       "      <td>36</td>\n",
       "      <td>10</td>\n",
       "      <td>221</td>\n",
       "      <td>773</td>\n",
       "      <td>1863</td>\n",
       "    </tr>\n",
       "  </tbody>\n",
       "</table>\n",
       "</div>"
      ],
      "text/plain": [
       "           Id ActivityDate  TotalSteps  TotalDistance  TrackerDistance  \\\n",
       "0  1503960366    4/12/2016       13162           8.50             8.50   \n",
       "1  1503960366    4/13/2016       10735           6.97             6.97   \n",
       "2  1503960366    4/14/2016       10460           6.74             6.74   \n",
       "3  1503960366    4/15/2016        9762           6.28             6.28   \n",
       "4  1503960366    4/16/2016       12669           8.16             8.16   \n",
       "\n",
       "   LoggedActivitiesDistance  VeryActiveDistance  ModeratelyActiveDistance  \\\n",
       "0                       0.0                1.88                      0.55   \n",
       "1                       0.0                1.57                      0.69   \n",
       "2                       0.0                2.44                      0.40   \n",
       "3                       0.0                2.14                      1.26   \n",
       "4                       0.0                2.71                      0.41   \n",
       "\n",
       "   LightActiveDistance  SedentaryActiveDistance  VeryActiveMinutes  \\\n",
       "0                 6.06                      0.0                 25   \n",
       "1                 4.71                      0.0                 21   \n",
       "2                 3.91                      0.0                 30   \n",
       "3                 2.83                      0.0                 29   \n",
       "4                 5.04                      0.0                 36   \n",
       "\n",
       "   FairlyActiveMinutes  LightlyActiveMinutes  SedentaryMinutes  Calories  \n",
       "0                   13                   328               728      1985  \n",
       "1                   19                   217               776      1797  \n",
       "2                   11                   181              1218      1776  \n",
       "3                   34                   209               726      1745  \n",
       "4                   10                   221               773      1863  "
      ]
     },
     "execution_count": 15,
     "metadata": {},
     "output_type": "execute_result"
    }
   ],
   "source": [
    "dailyActivity.head()"
   ]
  },
  {
   "cell_type": "markdown",
   "id": "pregnant-hungary",
   "metadata": {
    "papermill": {
     "duration": 0.058465,
     "end_time": "2023-04-08T16:15:43.918934",
     "exception": false,
     "start_time": "2023-04-08T16:15:43.860469",
     "status": "completed"
    },
    "tags": []
   },
   "source": [
    "# How active are these Users?"
   ]
  },
  {
   "cell_type": "code",
   "execution_count": 16,
   "id": "detected-ancient",
   "metadata": {
    "execution": {
     "iopub.execute_input": "2023-04-08T16:15:44.039527Z",
     "iopub.status.busy": "2023-04-08T16:15:44.038773Z",
     "iopub.status.idle": "2023-04-08T16:15:44.073121Z",
     "shell.execute_reply": "2023-04-08T16:15:44.073696Z",
     "shell.execute_reply.started": "2021-07-05T09:08:59.204985Z"
    },
    "papermill": {
     "duration": 0.096526,
     "end_time": "2023-04-08T16:15:44.073890",
     "exception": false,
     "start_time": "2023-04-08T16:15:43.977364",
     "status": "completed"
    },
    "tags": []
   },
   "outputs": [],
   "source": [
    "#convert to datetime\n",
    "dailyActivity['ActivityDate'] = pd.to_datetime(dailyActivity['ActivityDate'])\n",
    "\n",
    "# add a new column that indicates the day's name\n",
    "dailyActivity['day_name'] = dailyActivity['ActivityDate'].dt.day_name()\n",
    "\n",
    "# add a new column that indicates weekday/weekend\n",
    "dailyActivity['weekend_weekday'] = np.where(dailyActivity['ActivityDate'].dt.dayofweek > 4, 'Weekend', 'Weekday')\n"
   ]
  },
  {
   "cell_type": "markdown",
   "id": "designed-missouri",
   "metadata": {
    "papermill": {
     "duration": 0.058391,
     "end_time": "2023-04-08T16:15:44.191039",
     "exception": false,
     "start_time": "2023-04-08T16:15:44.132648",
     "status": "completed"
    },
    "tags": []
   },
   "source": [
    "# Let's get a brief summary of their daily activities."
   ]
  },
  {
   "cell_type": "code",
   "execution_count": 17,
   "id": "domestic-emphasis",
   "metadata": {
    "execution": {
     "iopub.execute_input": "2023-04-08T16:15:44.311670Z",
     "iopub.status.busy": "2023-04-08T16:15:44.310970Z",
     "iopub.status.idle": "2023-04-08T16:15:44.378586Z",
     "shell.execute_reply": "2023-04-08T16:15:44.379132Z",
     "shell.execute_reply.started": "2021-07-05T09:08:59.23382Z"
    },
    "papermill": {
     "duration": 0.129347,
     "end_time": "2023-04-08T16:15:44.379317",
     "exception": false,
     "start_time": "2023-04-08T16:15:44.249970",
     "status": "completed"
    },
    "tags": []
   },
   "outputs": [
    {
     "name": "stdout",
     "output_type": "stream",
     "text": [
      "Total Steps Summary\n",
      "count      940.000000\n",
      "mean      7637.910638\n",
      "std       5087.150742\n",
      "min          0.000000\n",
      "25%       3789.750000\n",
      "50%       7405.500000\n",
      "75%      10727.000000\n",
      "max      36019.000000\n",
      "Name: TotalSteps, dtype: float64\n",
      "\n",
      "\n",
      "       VeryActiveMinutes  FairlyActiveMinutes  LightlyActiveMinutes  \\\n",
      "count         940.000000           940.000000            940.000000   \n",
      "mean           21.164894            13.564894            192.812766   \n",
      "std            32.844803            19.987404            109.174700   \n",
      "min             0.000000             0.000000              0.000000   \n",
      "25%             0.000000             0.000000            127.000000   \n",
      "50%             4.000000             6.000000            199.000000   \n",
      "75%            32.000000            19.000000            264.000000   \n",
      "max           210.000000           143.000000            518.000000   \n",
      "\n",
      "       SedentaryMinutes  \n",
      "count        940.000000  \n",
      "mean         991.210638  \n",
      "std          301.267437  \n",
      "min            0.000000  \n",
      "25%          729.750000  \n",
      "50%         1057.500000  \n",
      "75%         1229.500000  \n",
      "max         1440.000000  \n",
      "\n",
      "\n",
      "          Calories  TotalDistance\n",
      "count   940.000000     940.000000\n",
      "mean   2303.609574       5.489702\n",
      "std     718.166862       3.924606\n",
      "min       0.000000       0.000000\n",
      "25%    1828.500000       2.620000\n",
      "50%    2134.000000       5.245000\n",
      "75%    2793.250000       7.712500\n",
      "max    4900.000000      28.030001\n",
      "\n",
      "\n",
      "       TotalSleepRecords  TotalMinutesAsleep  TotalTimeInBed\n",
      "count         413.000000          413.000000      413.000000\n",
      "mean            1.118644          419.467312      458.639225\n",
      "std             0.345521          118.344679      127.101607\n",
      "min             1.000000           58.000000       61.000000\n",
      "25%             1.000000          361.000000      403.000000\n",
      "50%             1.000000          433.000000      463.000000\n",
      "75%             1.000000          490.000000      526.000000\n",
      "max             3.000000          796.000000      961.000000\n",
      "\n",
      "\n",
      "             BMI    WeightKg\n",
      "count  67.000000   67.000000\n",
      "mean   25.185224   72.035821\n",
      "std     3.066963   13.923206\n",
      "min    21.450001   52.599998\n",
      "25%    23.959999   61.400002\n",
      "50%    24.389999   62.500000\n",
      "75%    25.559999   85.049999\n",
      "max    47.540001  133.500000\n"
     ]
    }
   ],
   "source": [
    "# steps taken summary\n",
    "print(\"Total Steps Summary\")\n",
    "steps = dailyActivity['TotalSteps'].describe()\n",
    "print(steps)\n",
    "print('\\n')\n",
    "\n",
    "# byMinutes summary\n",
    "minutes = dailyActivity[['VeryActiveMinutes', 'FairlyActiveMinutes', 'LightlyActiveMinutes', 'SedentaryMinutes']].describe()\n",
    "print(minutes)\n",
    "print('\\n')\n",
    "\n",
    "# Calories and total distance burned summary\n",
    "calories = dailyActivity[['Calories', 'TotalDistance']].describe()\n",
    "print(calories)\n",
    "print('\\n')\n",
    "\n",
    "#Sleep Records, weight, and bmi\n",
    "print(sleepDay[['TotalSleepRecords', 'TotalMinutesAsleep', 'TotalTimeInBed']].describe())\n",
    "print('\\n')\n",
    "print(weightLog[['BMI', 'WeightKg']].describe())"
   ]
  },
  {
   "cell_type": "markdown",
   "id": "wound-grain",
   "metadata": {
    "papermill": {
     "duration": 0.061062,
     "end_time": "2023-04-08T16:15:44.503344",
     "exception": false,
     "start_time": "2023-04-08T16:15:44.442282",
     "status": "completed"
    },
    "tags": []
   },
   "source": [
    "### Insights from this summary: \n",
    "* Sedentary average around 991 minutes, or 16 hours. \n",
    "* The users on this dataset are mostly lightly active. \n",
    "* Users seem to be getting on average roughly 7 hours of sleep, and they mostly sleep one time per day on average. \n",
    "* On average, these users take 7637 steps per day, which is lower than what CDC recommends on one of their research. According to a [research](https://www.cdc.gov/media/releases/2020/p0324-daily-step-count.html) conducted by the CDC, an adult should ideally take at least 8000 steps per day as it is associated with a 51% lower risk for all-cause mortality.\n",
    "\n",
    "\n",
    "I recommend Bellabeat to program their smart devices to inform users regarding the ideal total steps to be taken to their users. "
   ]
  },
  {
   "cell_type": "markdown",
   "id": "absent-cambridge",
   "metadata": {
    "papermill": {
     "duration": 0.05894,
     "end_time": "2023-04-08T16:15:44.622673",
     "exception": false,
     "start_time": "2023-04-08T16:15:44.563733",
     "status": "completed"
    },
    "tags": []
   },
   "source": [
    "# Let's see if the day of the week, or weekends or weekdays, have any influence on how users are active. "
   ]
  },
  {
   "cell_type": "code",
   "execution_count": 18,
   "id": "damaged-jacksonville",
   "metadata": {
    "execution": {
     "iopub.execute_input": "2023-04-08T16:15:44.743491Z",
     "iopub.status.busy": "2023-04-08T16:15:44.742482Z",
     "iopub.status.idle": "2023-04-08T16:15:44.770748Z",
     "shell.execute_reply": "2023-04-08T16:15:44.770015Z",
     "shell.execute_reply.started": "2021-07-05T09:08:59.307422Z"
    },
    "papermill": {
     "duration": 0.089718,
     "end_time": "2023-04-08T16:15:44.770916",
     "exception": false,
     "start_time": "2023-04-08T16:15:44.681198",
     "status": "completed"
    },
    "tags": []
   },
   "outputs": [
    {
     "data": {
      "text/html": [
       "<div>\n",
       "<style scoped>\n",
       "    .dataframe tbody tr th:only-of-type {\n",
       "        vertical-align: middle;\n",
       "    }\n",
       "\n",
       "    .dataframe tbody tr th {\n",
       "        vertical-align: top;\n",
       "    }\n",
       "\n",
       "    .dataframe thead th {\n",
       "        text-align: right;\n",
       "    }\n",
       "</style>\n",
       "<table border=\"1\" class=\"dataframe\">\n",
       "  <thead>\n",
       "    <tr style=\"text-align: right;\">\n",
       "      <th></th>\n",
       "      <th>FairlyActiveMinutes</th>\n",
       "      <th>LightlyActiveMinutes</th>\n",
       "      <th>SedentaryMinutes</th>\n",
       "      <th>VeryActiveMinutes</th>\n",
       "    </tr>\n",
       "    <tr>\n",
       "      <th>day_name</th>\n",
       "      <th></th>\n",
       "      <th></th>\n",
       "      <th></th>\n",
       "      <th></th>\n",
       "    </tr>\n",
       "  </thead>\n",
       "  <tbody>\n",
       "    <tr>\n",
       "      <th>Friday</th>\n",
       "      <td>12.111111</td>\n",
       "      <td>204.198413</td>\n",
       "      <td>1000.309524</td>\n",
       "      <td>20.055556</td>\n",
       "    </tr>\n",
       "    <tr>\n",
       "      <th>Monday</th>\n",
       "      <td>14.000000</td>\n",
       "      <td>192.058333</td>\n",
       "      <td>1027.941667</td>\n",
       "      <td>23.108333</td>\n",
       "    </tr>\n",
       "    <tr>\n",
       "      <th>Saturday</th>\n",
       "      <td>15.201613</td>\n",
       "      <td>207.145161</td>\n",
       "      <td>964.282258</td>\n",
       "      <td>21.919355</td>\n",
       "    </tr>\n",
       "    <tr>\n",
       "      <th>Sunday</th>\n",
       "      <td>14.528926</td>\n",
       "      <td>173.975207</td>\n",
       "      <td>990.256198</td>\n",
       "      <td>19.983471</td>\n",
       "    </tr>\n",
       "    <tr>\n",
       "      <th>Thursday</th>\n",
       "      <td>11.959184</td>\n",
       "      <td>185.421769</td>\n",
       "      <td>961.993197</td>\n",
       "      <td>19.408163</td>\n",
       "    </tr>\n",
       "    <tr>\n",
       "      <th>Tuesday</th>\n",
       "      <td>14.335526</td>\n",
       "      <td>197.342105</td>\n",
       "      <td>1007.361842</td>\n",
       "      <td>22.953947</td>\n",
       "    </tr>\n",
       "    <tr>\n",
       "      <th>Wednesday</th>\n",
       "      <td>13.100000</td>\n",
       "      <td>189.853333</td>\n",
       "      <td>989.480000</td>\n",
       "      <td>20.780000</td>\n",
       "    </tr>\n",
       "  </tbody>\n",
       "</table>\n",
       "</div>"
      ],
      "text/plain": [
       "           FairlyActiveMinutes  LightlyActiveMinutes  SedentaryMinutes  \\\n",
       "day_name                                                                 \n",
       "Friday               12.111111            204.198413       1000.309524   \n",
       "Monday               14.000000            192.058333       1027.941667   \n",
       "Saturday             15.201613            207.145161        964.282258   \n",
       "Sunday               14.528926            173.975207        990.256198   \n",
       "Thursday             11.959184            185.421769        961.993197   \n",
       "Tuesday              14.335526            197.342105       1007.361842   \n",
       "Wednesday            13.100000            189.853333        989.480000   \n",
       "\n",
       "           VeryActiveMinutes  \n",
       "day_name                      \n",
       "Friday             20.055556  \n",
       "Monday             23.108333  \n",
       "Saturday           21.919355  \n",
       "Sunday             19.983471  \n",
       "Thursday           19.408163  \n",
       "Tuesday            22.953947  \n",
       "Wednesday          20.780000  "
      ]
     },
     "execution_count": 18,
     "metadata": {},
     "output_type": "execute_result"
    }
   ],
   "source": [
    "byMinute = dailyActivity.pivot_table(\n",
    "    values = ['VeryActiveMinutes', 'FairlyActiveMinutes', 'LightlyActiveMinutes', 'SedentaryMinutes'],\n",
    "    index = 'day_name'\n",
    ")\n",
    "\n",
    "byMinute\n"
   ]
  },
  {
   "cell_type": "code",
   "execution_count": 19,
   "id": "cheap-camcorder",
   "metadata": {
    "execution": {
     "iopub.execute_input": "2023-04-08T16:15:44.894347Z",
     "iopub.status.busy": "2023-04-08T16:15:44.893716Z",
     "iopub.status.idle": "2023-04-08T16:15:44.914224Z",
     "shell.execute_reply": "2023-04-08T16:15:44.913570Z",
     "shell.execute_reply.started": "2021-07-05T09:08:59.341381Z"
    },
    "papermill": {
     "duration": 0.08256,
     "end_time": "2023-04-08T16:15:44.914376",
     "exception": false,
     "start_time": "2023-04-08T16:15:44.831816",
     "status": "completed"
    },
    "tags": []
   },
   "outputs": [
    {
     "data": {
      "text/html": [
       "<div>\n",
       "<style scoped>\n",
       "    .dataframe tbody tr th:only-of-type {\n",
       "        vertical-align: middle;\n",
       "    }\n",
       "\n",
       "    .dataframe tbody tr th {\n",
       "        vertical-align: top;\n",
       "    }\n",
       "\n",
       "    .dataframe thead th {\n",
       "        text-align: right;\n",
       "    }\n",
       "</style>\n",
       "<table border=\"1\" class=\"dataframe\">\n",
       "  <thead>\n",
       "    <tr style=\"text-align: right;\">\n",
       "      <th></th>\n",
       "      <th>LightActiveDistance</th>\n",
       "      <th>ModeratelyActiveDistance</th>\n",
       "      <th>SedentaryActiveDistance</th>\n",
       "      <th>VeryActiveDistance</th>\n",
       "    </tr>\n",
       "    <tr>\n",
       "      <th>day_name</th>\n",
       "      <th></th>\n",
       "      <th></th>\n",
       "      <th></th>\n",
       "      <th></th>\n",
       "    </tr>\n",
       "  </thead>\n",
       "  <tbody>\n",
       "    <tr>\n",
       "      <th>Friday</th>\n",
       "      <td>3.489127</td>\n",
       "      <td>0.483810</td>\n",
       "      <td>0.001825</td>\n",
       "      <td>1.312937</td>\n",
       "    </tr>\n",
       "    <tr>\n",
       "      <th>Monday</th>\n",
       "      <td>3.363083</td>\n",
       "      <td>0.585833</td>\n",
       "      <td>0.002583</td>\n",
       "      <td>1.537333</td>\n",
       "    </tr>\n",
       "    <tr>\n",
       "      <th>Saturday</th>\n",
       "      <td>3.617177</td>\n",
       "      <td>0.677339</td>\n",
       "      <td>0.001048</td>\n",
       "      <td>1.514597</td>\n",
       "    </tr>\n",
       "    <tr>\n",
       "      <th>Sunday</th>\n",
       "      <td>2.892314</td>\n",
       "      <td>0.618017</td>\n",
       "      <td>0.000661</td>\n",
       "      <td>1.488926</td>\n",
       "    </tr>\n",
       "    <tr>\n",
       "      <th>Thursday</th>\n",
       "      <td>3.283129</td>\n",
       "      <td>0.505170</td>\n",
       "      <td>0.002313</td>\n",
       "      <td>1.390476</td>\n",
       "    </tr>\n",
       "    <tr>\n",
       "      <th>Tuesday</th>\n",
       "      <td>3.471053</td>\n",
       "      <td>0.593026</td>\n",
       "      <td>0.001447</td>\n",
       "      <td>1.613289</td>\n",
       "    </tr>\n",
       "    <tr>\n",
       "      <th>Wednesday</th>\n",
       "      <td>3.256333</td>\n",
       "      <td>0.527067</td>\n",
       "      <td>0.001333</td>\n",
       "      <td>1.633467</td>\n",
       "    </tr>\n",
       "  </tbody>\n",
       "</table>\n",
       "</div>"
      ],
      "text/plain": [
       "           LightActiveDistance  ModeratelyActiveDistance  \\\n",
       "day_name                                                   \n",
       "Friday                3.489127                  0.483810   \n",
       "Monday                3.363083                  0.585833   \n",
       "Saturday              3.617177                  0.677339   \n",
       "Sunday                2.892314                  0.618017   \n",
       "Thursday              3.283129                  0.505170   \n",
       "Tuesday               3.471053                  0.593026   \n",
       "Wednesday             3.256333                  0.527067   \n",
       "\n",
       "           SedentaryActiveDistance  VeryActiveDistance  \n",
       "day_name                                                \n",
       "Friday                    0.001825            1.312937  \n",
       "Monday                    0.002583            1.537333  \n",
       "Saturday                  0.001048            1.514597  \n",
       "Sunday                    0.000661            1.488926  \n",
       "Thursday                  0.002313            1.390476  \n",
       "Tuesday                   0.001447            1.613289  \n",
       "Wednesday                 0.001333            1.633467  "
      ]
     },
     "execution_count": 19,
     "metadata": {},
     "output_type": "execute_result"
    }
   ],
   "source": [
    "byDistance = dailyActivity.pivot_table(\n",
    "    values = ['VeryActiveDistance', 'ModeratelyActiveDistance', 'LightActiveDistance', 'SedentaryActiveDistance'],\n",
    "    index = 'day_name'\n",
    ")\n",
    "\n",
    "byDistance"
   ]
  },
  {
   "cell_type": "code",
   "execution_count": 20,
   "id": "approximate-caution",
   "metadata": {
    "execution": {
     "iopub.execute_input": "2023-04-08T16:15:45.039577Z",
     "iopub.status.busy": "2023-04-08T16:15:45.038837Z",
     "iopub.status.idle": "2023-04-08T16:15:45.382462Z",
     "shell.execute_reply": "2023-04-08T16:15:45.381761Z",
     "shell.execute_reply.started": "2021-07-05T09:08:59.367511Z"
    },
    "papermill": {
     "duration": 0.408449,
     "end_time": "2023-04-08T16:15:45.382649",
     "exception": false,
     "start_time": "2023-04-08T16:15:44.974200",
     "status": "completed"
    },
    "tags": []
   },
   "outputs": [
    {
     "data": {
      "text/plain": [
       "<AxesSubplot:xlabel='day_name'>"
      ]
     },
     "execution_count": 20,
     "metadata": {},
     "output_type": "execute_result"
    },
    {
     "data": {
      "image/png": "[encoded data removed]",
      "text/plain": [
       "<Figure size 1224x504 with 1 Axes>"
      ]
     },
     "metadata": {
      "needs_background": "light"
     },
     "output_type": "display_data"
    }
   ],
   "source": [
    "byMinute.plot(kind = 'bar', figsize = [17,7])"
   ]
  },
  {
   "cell_type": "code",
   "execution_count": 21,
   "id": "distinguished-request",
   "metadata": {
    "execution": {
     "iopub.execute_input": "2023-04-08T16:15:45.539038Z",
     "iopub.status.busy": "2023-04-08T16:15:45.537980Z",
     "iopub.status.idle": "2023-04-08T16:15:45.812546Z",
     "shell.execute_reply": "2023-04-08T16:15:45.811988Z",
     "shell.execute_reply.started": "2021-07-05T09:08:59.66781Z"
    },
    "papermill": {
     "duration": 0.365887,
     "end_time": "2023-04-08T16:15:45.812707",
     "exception": false,
     "start_time": "2023-04-08T16:15:45.446820",
     "status": "completed"
    },
    "tags": []
   },
   "outputs": [
    {
     "data": {
      "text/plain": [
       "<AxesSubplot:xlabel='day_name'>"
      ]
     },
     "execution_count": 21,
     "metadata": {},
     "output_type": "execute_result"
    },
    {
     "data": {
      "image/png": "[encoded data removed]",
      "text/plain": [
       "<Figure size 1224x504 with 1 Axes>"
      ]
     },
     "metadata": {
      "needs_background": "light"
     },
     "output_type": "display_data"
    }
   ],
   "source": [
    "byDistance.plot(kind = 'bar', figsize = [17,7])"
   ]
  },
  {
   "cell_type": "markdown",
   "id": "neither-replica",
   "metadata": {
    "papermill": {
     "duration": 0.062271,
     "end_time": "2023-04-08T16:15:45.937879",
     "exception": false,
     "start_time": "2023-04-08T16:15:45.875608",
     "status": "completed"
    },
    "tags": []
   },
   "source": [
    "#### The most and least active based on the type of activity (Fairly, Lightly, etc)"
   ]
  },
  {
   "cell_type": "code",
   "execution_count": 22,
   "id": "representative-sheriff",
   "metadata": {
    "execution": {
     "iopub.execute_input": "2023-04-08T16:15:46.074700Z",
     "iopub.status.busy": "2023-04-08T16:15:46.073686Z",
     "iopub.status.idle": "2023-04-08T16:15:46.080461Z",
     "shell.execute_reply": "2023-04-08T16:15:46.081043Z",
     "shell.execute_reply.started": "2021-07-05T09:08:59.963297Z"
    },
    "papermill": {
     "duration": 0.079536,
     "end_time": "2023-04-08T16:15:46.081218",
     "exception": false,
     "start_time": "2023-04-08T16:15:46.001682",
     "status": "completed"
    },
    "tags": []
   },
   "outputs": [
    {
     "name": "stdout",
     "output_type": "stream",
     "text": [
      "The Most Active Based on the Type of Activity (Fairly, Lightly, etc)\n",
      "FairlyActiveMinutes     Saturday\n",
      "LightlyActiveMinutes    Saturday\n",
      "SedentaryMinutes          Monday\n",
      "VeryActiveMinutes         Monday\n",
      "dtype: object\n",
      "\n",
      "\n",
      "The Least Active Based on the Type of Activity (Fairly, Lightly, etc)\n",
      "FairlyActiveMinutes     Thursday\n",
      "LightlyActiveMinutes      Sunday\n",
      "SedentaryMinutes        Thursday\n",
      "VeryActiveMinutes       Thursday\n",
      "dtype: object\n"
     ]
    }
   ],
   "source": [
    "print('The Most Active Based on the Type of Activity (Fairly, Lightly, etc)')\n",
    "print(byMinute.idxmax())\n",
    "print('\\n')\n",
    "print('The Least Active Based on the Type of Activity (Fairly, Lightly, etc)')\n",
    "print(byMinute.idxmin())"
   ]
  },
  {
   "cell_type": "markdown",
   "id": "cellular-discipline",
   "metadata": {
    "papermill": {
     "duration": 0.062531,
     "end_time": "2023-04-08T16:15:46.207132",
     "exception": false,
     "start_time": "2023-04-08T16:15:46.144601",
     "status": "completed"
    },
    "tags": []
   },
   "source": [
    "#### The Most and Least Active Based On Distance"
   ]
  },
  {
   "cell_type": "code",
   "execution_count": 23,
   "id": "fundamental-administrator",
   "metadata": {
    "execution": {
     "iopub.execute_input": "2023-04-08T16:15:46.344311Z",
     "iopub.status.busy": "2023-04-08T16:15:46.343585Z",
     "iopub.status.idle": "2023-04-08T16:15:46.346704Z",
     "shell.execute_reply": "2023-04-08T16:15:46.347154Z",
     "shell.execute_reply.started": "2021-07-05T09:08:59.980209Z"
    },
    "papermill": {
     "duration": 0.076693,
     "end_time": "2023-04-08T16:15:46.347341",
     "exception": false,
     "start_time": "2023-04-08T16:15:46.270648",
     "status": "completed"
    },
    "tags": []
   },
   "outputs": [
    {
     "name": "stdout",
     "output_type": "stream",
     "text": [
      "The Most Active Based On Distance\n",
      "LightActiveDistance          Saturday\n",
      "ModeratelyActiveDistance     Saturday\n",
      "SedentaryActiveDistance        Monday\n",
      "VeryActiveDistance          Wednesday\n",
      "dtype: object\n",
      "\n",
      "\n",
      "The Least Active Based On Distance\n",
      "LightActiveDistance         Sunday\n",
      "ModeratelyActiveDistance    Friday\n",
      "SedentaryActiveDistance     Sunday\n",
      "VeryActiveDistance          Friday\n",
      "dtype: object\n"
     ]
    }
   ],
   "source": [
    "print('The Most Active Based On Distance')\n",
    "print(byDistance.idxmax())\n",
    "print('\\n')\n",
    "print('The Least Active Based On Distance')\n",
    "print(byDistance.idxmin())"
   ]
  },
  {
   "cell_type": "markdown",
   "id": "combined-packaging",
   "metadata": {
    "papermill": {
     "duration": 0.063946,
     "end_time": "2023-04-08T16:15:46.477331",
     "exception": false,
     "start_time": "2023-04-08T16:15:46.413385",
     "status": "completed"
    },
    "tags": []
   },
   "source": [
    "### If compared based on the days of the week, Monday seems to be the least active day on average based on the sedentary being the highest in both in terms of minutes and distance. Based on the data, Saturday seems be the day that users did the most exercise lightly or moderately (accounting both the distance and minute on average)\n",
    "\n",
    "## **However, based on the above visualizations and summary data, I can't really draw a solid conclusion. For now, I hyphothesize that users are probably most active on Saturdays.** "
   ]
  },
  {
   "cell_type": "markdown",
   "id": "bottom-illustration",
   "metadata": {
    "papermill": {
     "duration": 0.062864,
     "end_time": "2023-04-08T16:15:46.603292",
     "exception": false,
     "start_time": "2023-04-08T16:15:46.540428",
     "status": "completed"
    },
    "tags": []
   },
   "source": [
    "# **What factors contribute to the highest calorie burns?**"
   ]
  },
  {
   "cell_type": "code",
   "execution_count": 24,
   "id": "matched-singapore",
   "metadata": {
    "execution": {
     "iopub.execute_input": "2023-04-08T16:15:46.733101Z",
     "iopub.status.busy": "2023-04-08T16:15:46.732326Z",
     "iopub.status.idle": "2023-04-08T16:15:46.749869Z",
     "shell.execute_reply": "2023-04-08T16:15:46.750319Z",
     "shell.execute_reply.started": "2021-07-05T09:08:59.998664Z"
    },
    "papermill": {
     "duration": 0.083801,
     "end_time": "2023-04-08T16:15:46.750529",
     "exception": false,
     "start_time": "2023-04-08T16:15:46.666728",
     "status": "completed"
    },
    "tags": []
   },
   "outputs": [
    {
     "data": {
      "text/html": [
       "<div>\n",
       "<style scoped>\n",
       "    .dataframe tbody tr th:only-of-type {\n",
       "        vertical-align: middle;\n",
       "    }\n",
       "\n",
       "    .dataframe tbody tr th {\n",
       "        vertical-align: top;\n",
       "    }\n",
       "\n",
       "    .dataframe thead th {\n",
       "        text-align: right;\n",
       "    }\n",
       "</style>\n",
       "<table border=\"1\" class=\"dataframe\">\n",
       "  <thead>\n",
       "    <tr style=\"text-align: right;\">\n",
       "      <th></th>\n",
       "      <th>Calories</th>\n",
       "    </tr>\n",
       "    <tr>\n",
       "      <th>day_name</th>\n",
       "      <th></th>\n",
       "    </tr>\n",
       "  </thead>\n",
       "  <tbody>\n",
       "    <tr>\n",
       "      <th>Friday</th>\n",
       "      <td>2331.785714</td>\n",
       "    </tr>\n",
       "    <tr>\n",
       "      <th>Monday</th>\n",
       "      <td>2324.208333</td>\n",
       "    </tr>\n",
       "    <tr>\n",
       "      <th>Saturday</th>\n",
       "      <td>2354.967742</td>\n",
       "    </tr>\n",
       "    <tr>\n",
       "      <th>Sunday</th>\n",
       "      <td>2263.000000</td>\n",
       "    </tr>\n",
       "    <tr>\n",
       "      <th>Thursday</th>\n",
       "      <td>2199.571429</td>\n",
       "    </tr>\n",
       "    <tr>\n",
       "      <th>Tuesday</th>\n",
       "      <td>2356.013158</td>\n",
       "    </tr>\n",
       "    <tr>\n",
       "      <th>Wednesday</th>\n",
       "      <td>2302.620000</td>\n",
       "    </tr>\n",
       "  </tbody>\n",
       "</table>\n",
       "</div>"
      ],
      "text/plain": [
       "              Calories\n",
       "day_name              \n",
       "Friday     2331.785714\n",
       "Monday     2324.208333\n",
       "Saturday   2354.967742\n",
       "Sunday     2263.000000\n",
       "Thursday   2199.571429\n",
       "Tuesday    2356.013158\n",
       "Wednesday  2302.620000"
      ]
     },
     "execution_count": 24,
     "metadata": {},
     "output_type": "execute_result"
    }
   ],
   "source": [
    "caloriesGrouped = dailyActivity.pivot_table(\n",
    "    values = 'Calories',\n",
    "    index = 'day_name'\n",
    ")\n",
    "\n",
    "caloriesGrouped"
   ]
  },
  {
   "cell_type": "markdown",
   "id": "quiet-bread",
   "metadata": {
    "papermill": {
     "duration": 0.063434,
     "end_time": "2023-04-08T16:15:46.877691",
     "exception": false,
     "start_time": "2023-04-08T16:15:46.814257",
     "status": "completed"
    },
    "tags": []
   },
   "source": [
    "### Based on the summary data, it would seem that people burn the least calorie on Thursdays on average, whereas Tuesday is has the most calories burned on average."
   ]
  },
  {
   "cell_type": "markdown",
   "id": "subject-leave",
   "metadata": {
    "papermill": {
     "duration": 0.062827,
     "end_time": "2023-04-08T16:15:47.003632",
     "exception": false,
     "start_time": "2023-04-08T16:15:46.940805",
     "status": "completed"
    },
    "tags": []
   },
   "source": [
    "# Let's analyze steps taken vs calories burned"
   ]
  },
  {
   "cell_type": "code",
   "execution_count": 25,
   "id": "integral-northwest",
   "metadata": {
    "execution": {
     "iopub.execute_input": "2023-04-08T16:15:47.134243Z",
     "iopub.status.busy": "2023-04-08T16:15:47.133509Z",
     "iopub.status.idle": "2023-04-08T16:15:47.567817Z",
     "shell.execute_reply": "2023-04-08T16:15:47.568418Z",
     "shell.execute_reply.started": "2021-07-05T09:09:00.023781Z"
    },
    "papermill": {
     "duration": 0.501171,
     "end_time": "2023-04-08T16:15:47.568631",
     "exception": false,
     "start_time": "2023-04-08T16:15:47.067460",
     "status": "completed"
    },
    "tags": []
   },
   "outputs": [
    {
     "data": {
      "text/plain": [
       "Text(0.5, 1.0, 'Relationship Between Total Steps Taken and Calories Burned')"
      ]
     },
     "execution_count": 25,
     "metadata": {},
     "output_type": "execute_result"
    },
    {
     "data": {
      "image/png": "[encoded data removed]",
      "text/plain": [
       "<Figure size 1080x720 with 1 Axes>"
      ]
     },
     "metadata": {
      "needs_background": "light"
     },
     "output_type": "display_data"
    }
   ],
   "source": [
    "fig_dims = (15, 10)\n",
    "fig, ax = plt.subplots(figsize=fig_dims)\n",
    "\n",
    "sns.set_style(\"darkgrid\")\n",
    "reg = sns.regplot(\n",
    "    data = dailyActivity,\n",
    "    x = 'TotalSteps',\n",
    "    y = 'Calories',\n",
    "    ax = ax,\n",
    "    color = 'blue'\n",
    ")\n",
    "\n",
    "reg.set_title('Relationship Between Total Steps Taken and Calories Burned')\n"
   ]
  },
  {
   "cell_type": "markdown",
   "id": "pretty-arrival",
   "metadata": {
    "papermill": {
     "duration": 0.068325,
     "end_time": "2023-04-08T16:15:47.708262",
     "exception": false,
     "start_time": "2023-04-08T16:15:47.639937",
     "status": "completed"
    },
    "tags": []
   },
   "source": [
    "### Based on this visualization, I can clearly see that there's a positive relationship between these total steps taken and calories burned. The more steps that were taken on a particular day, the more calories were burned. I guess this was probably very obvious as the more we move our bodies, we tend to burn more calories. "
   ]
  },
  {
   "cell_type": "markdown",
   "id": "opened-account",
   "metadata": {
    "papermill": {
     "duration": 0.068208,
     "end_time": "2023-04-08T16:15:47.847237",
     "exception": false,
     "start_time": "2023-04-08T16:15:47.779029",
     "status": "completed"
    },
    "tags": []
   },
   "source": [
    "# **How does the data vary from weekends and weekdays?**\n",
    "\n",
    "### How much calories do they burn between weekdays and weekends? How about the quality of their sleep?"
   ]
  },
  {
   "cell_type": "markdown",
   "id": "norman-cloud",
   "metadata": {
    "papermill": {
     "duration": 0.066952,
     "end_time": "2023-04-08T16:15:47.982199",
     "exception": false,
     "start_time": "2023-04-08T16:15:47.915247",
     "status": "completed"
    },
    "tags": []
   },
   "source": [
    "# I will now inner join between the sleepDay and dailyActivity dataset in order to analyze the users' sleeping behaviours. "
   ]
  },
  {
   "cell_type": "code",
   "execution_count": 26,
   "id": "involved-approach",
   "metadata": {
    "execution": {
     "iopub.execute_input": "2023-04-08T16:15:48.121907Z",
     "iopub.status.busy": "2023-04-08T16:15:48.121121Z",
     "iopub.status.idle": "2023-04-08T16:15:48.149060Z",
     "shell.execute_reply": "2023-04-08T16:15:48.149664Z",
     "shell.execute_reply.started": "2021-07-05T09:09:00.424199Z"
    },
    "papermill": {
     "duration": 0.099933,
     "end_time": "2023-04-08T16:15:48.149862",
     "exception": false,
     "start_time": "2023-04-08T16:15:48.049929",
     "status": "completed"
    },
    "tags": []
   },
   "outputs": [],
   "source": [
    "# Ensuring proper formatting and creating a new column in order to assist in the joining process\n",
    "sleepDay['SleepDay'] = pd.to_datetime(sleepDay['SleepDay'])\n",
    "sleepDay['date'] = pd.to_datetime(sleepDay['SleepDay'])\n",
    "dailyActivity['date'] = pd.to_datetime(dailyActivity['ActivityDate'])\n",
    "\n",
    "# sleepDay[['TotalSleepRecords', 'TotalMinutesAsleep', 'TotalTimeInBed']]\n",
    "\n",
    "#join sleep data with daily activity\n",
    "joinedDf = dailyActivity.merge(sleepDay, on = ['Id', 'date'])"
   ]
  },
  {
   "cell_type": "code",
   "execution_count": 27,
   "id": "acoustic-pantyhose",
   "metadata": {
    "execution": {
     "iopub.execute_input": "2023-04-08T16:15:48.288231Z",
     "iopub.status.busy": "2023-04-08T16:15:48.287513Z",
     "iopub.status.idle": "2023-04-08T16:15:48.315845Z",
     "shell.execute_reply": "2023-04-08T16:15:48.315119Z",
     "shell.execute_reply.started": "2021-07-05T09:09:00.447835Z"
    },
    "papermill": {
     "duration": 0.098199,
     "end_time": "2023-04-08T16:15:48.315997",
     "exception": false,
     "start_time": "2023-04-08T16:15:48.217798",
     "status": "completed"
    },
    "tags": []
   },
   "outputs": [
    {
     "data": {
      "text/html": [
       "<div>\n",
       "<style scoped>\n",
       "    .dataframe tbody tr th:only-of-type {\n",
       "        vertical-align: middle;\n",
       "    }\n",
       "\n",
       "    .dataframe tbody tr th {\n",
       "        vertical-align: top;\n",
       "    }\n",
       "\n",
       "    .dataframe thead th {\n",
       "        text-align: right;\n",
       "    }\n",
       "</style>\n",
       "<table border=\"1\" class=\"dataframe\">\n",
       "  <thead>\n",
       "    <tr style=\"text-align: right;\">\n",
       "      <th></th>\n",
       "      <th>Id</th>\n",
       "      <th>ActivityDate</th>\n",
       "      <th>TotalSteps</th>\n",
       "      <th>TotalDistance</th>\n",
       "      <th>TrackerDistance</th>\n",
       "      <th>LoggedActivitiesDistance</th>\n",
       "      <th>VeryActiveDistance</th>\n",
       "      <th>ModeratelyActiveDistance</th>\n",
       "      <th>LightActiveDistance</th>\n",
       "      <th>SedentaryActiveDistance</th>\n",
       "      <th>VeryActiveMinutes</th>\n",
       "      <th>FairlyActiveMinutes</th>\n",
       "      <th>LightlyActiveMinutes</th>\n",
       "      <th>SedentaryMinutes</th>\n",
       "      <th>Calories</th>\n",
       "      <th>day_name</th>\n",
       "      <th>weekend_weekday</th>\n",
       "      <th>date</th>\n",
       "      <th>SleepDay</th>\n",
       "      <th>TotalSleepRecords</th>\n",
       "      <th>TotalMinutesAsleep</th>\n",
       "      <th>TotalTimeInBed</th>\n",
       "    </tr>\n",
       "  </thead>\n",
       "  <tbody>\n",
       "    <tr>\n",
       "      <th>0</th>\n",
       "      <td>1503960366</td>\n",
       "      <td>2016-04-12</td>\n",
       "      <td>13162</td>\n",
       "      <td>8.50</td>\n",
       "      <td>8.50</td>\n",
       "      <td>0.0</td>\n",
       "      <td>1.88</td>\n",
       "      <td>0.55</td>\n",
       "      <td>6.06</td>\n",
       "      <td>0.0</td>\n",
       "      <td>25</td>\n",
       "      <td>13</td>\n",
       "      <td>328</td>\n",
       "      <td>728</td>\n",
       "      <td>1985</td>\n",
       "      <td>Tuesday</td>\n",
       "      <td>Weekday</td>\n",
       "      <td>2016-04-12</td>\n",
       "      <td>2016-04-12</td>\n",
       "      <td>1</td>\n",
       "      <td>327</td>\n",
       "      <td>346</td>\n",
       "    </tr>\n",
       "    <tr>\n",
       "      <th>1</th>\n",
       "      <td>1503960366</td>\n",
       "      <td>2016-04-13</td>\n",
       "      <td>10735</td>\n",
       "      <td>6.97</td>\n",
       "      <td>6.97</td>\n",
       "      <td>0.0</td>\n",
       "      <td>1.57</td>\n",
       "      <td>0.69</td>\n",
       "      <td>4.71</td>\n",
       "      <td>0.0</td>\n",
       "      <td>21</td>\n",
       "      <td>19</td>\n",
       "      <td>217</td>\n",
       "      <td>776</td>\n",
       "      <td>1797</td>\n",
       "      <td>Wednesday</td>\n",
       "      <td>Weekday</td>\n",
       "      <td>2016-04-13</td>\n",
       "      <td>2016-04-13</td>\n",
       "      <td>2</td>\n",
       "      <td>384</td>\n",
       "      <td>407</td>\n",
       "    </tr>\n",
       "    <tr>\n",
       "      <th>2</th>\n",
       "      <td>1503960366</td>\n",
       "      <td>2016-04-15</td>\n",
       "      <td>9762</td>\n",
       "      <td>6.28</td>\n",
       "      <td>6.28</td>\n",
       "      <td>0.0</td>\n",
       "      <td>2.14</td>\n",
       "      <td>1.26</td>\n",
       "      <td>2.83</td>\n",
       "      <td>0.0</td>\n",
       "      <td>29</td>\n",
       "      <td>34</td>\n",
       "      <td>209</td>\n",
       "      <td>726</td>\n",
       "      <td>1745</td>\n",
       "      <td>Friday</td>\n",
       "      <td>Weekday</td>\n",
       "      <td>2016-04-15</td>\n",
       "      <td>2016-04-15</td>\n",
       "      <td>1</td>\n",
       "      <td>412</td>\n",
       "      <td>442</td>\n",
       "    </tr>\n",
       "    <tr>\n",
       "      <th>3</th>\n",
       "      <td>1503960366</td>\n",
       "      <td>2016-04-16</td>\n",
       "      <td>12669</td>\n",
       "      <td>8.16</td>\n",
       "      <td>8.16</td>\n",
       "      <td>0.0</td>\n",
       "      <td>2.71</td>\n",
       "      <td>0.41</td>\n",
       "      <td>5.04</td>\n",
       "      <td>0.0</td>\n",
       "      <td>36</td>\n",
       "      <td>10</td>\n",
       "      <td>221</td>\n",
       "      <td>773</td>\n",
       "      <td>1863</td>\n",
       "      <td>Saturday</td>\n",
       "      <td>Weekend</td>\n",
       "      <td>2016-04-16</td>\n",
       "      <td>2016-04-16</td>\n",
       "      <td>2</td>\n",
       "      <td>340</td>\n",
       "      <td>367</td>\n",
       "    </tr>\n",
       "    <tr>\n",
       "      <th>4</th>\n",
       "      <td>1503960366</td>\n",
       "      <td>2016-04-17</td>\n",
       "      <td>9705</td>\n",
       "      <td>6.48</td>\n",
       "      <td>6.48</td>\n",
       "      <td>0.0</td>\n",
       "      <td>3.19</td>\n",
       "      <td>0.78</td>\n",
       "      <td>2.51</td>\n",
       "      <td>0.0</td>\n",
       "      <td>38</td>\n",
       "      <td>20</td>\n",
       "      <td>164</td>\n",
       "      <td>539</td>\n",
       "      <td>1728</td>\n",
       "      <td>Sunday</td>\n",
       "      <td>Weekend</td>\n",
       "      <td>2016-04-17</td>\n",
       "      <td>2016-04-17</td>\n",
       "      <td>1</td>\n",
       "      <td>700</td>\n",
       "      <td>712</td>\n",
       "    </tr>\n",
       "  </tbody>\n",
       "</table>\n",
       "</div>"
      ],
      "text/plain": [
       "           Id ActivityDate  TotalSteps  TotalDistance  TrackerDistance  \\\n",
       "0  1503960366   2016-04-12       13162           8.50             8.50   \n",
       "1  1503960366   2016-04-13       10735           6.97             6.97   \n",
       "2  1503960366   2016-04-15        9762           6.28             6.28   \n",
       "3  1503960366   2016-04-16       12669           8.16             8.16   \n",
       "4  1503960366   2016-04-17        9705           6.48             6.48   \n",
       "\n",
       "   LoggedActivitiesDistance  VeryActiveDistance  ModeratelyActiveDistance  \\\n",
       "0                       0.0                1.88                      0.55   \n",
       "1                       0.0                1.57                      0.69   \n",
       "2                       0.0                2.14                      1.26   \n",
       "3                       0.0                2.71                      0.41   \n",
       "4                       0.0                3.19                      0.78   \n",
       "\n",
       "   LightActiveDistance  SedentaryActiveDistance  VeryActiveMinutes  \\\n",
       "0                 6.06                      0.0                 25   \n",
       "1                 4.71                      0.0                 21   \n",
       "2                 2.83                      0.0                 29   \n",
       "3                 5.04                      0.0                 36   \n",
       "4                 2.51                      0.0                 38   \n",
       "\n",
       "   FairlyActiveMinutes  LightlyActiveMinutes  SedentaryMinutes  Calories  \\\n",
       "0                   13                   328               728      1985   \n",
       "1                   19                   217               776      1797   \n",
       "2                   34                   209               726      1745   \n",
       "3                   10                   221               773      1863   \n",
       "4                   20                   164               539      1728   \n",
       "\n",
       "    day_name weekend_weekday       date   SleepDay  TotalSleepRecords  \\\n",
       "0    Tuesday         Weekday 2016-04-12 2016-04-12                  1   \n",
       "1  Wednesday         Weekday 2016-04-13 2016-04-13                  2   \n",
       "2     Friday         Weekday 2016-04-15 2016-04-15                  1   \n",
       "3   Saturday         Weekend 2016-04-16 2016-04-16                  2   \n",
       "4     Sunday         Weekend 2016-04-17 2016-04-17                  1   \n",
       "\n",
       "   TotalMinutesAsleep  TotalTimeInBed  \n",
       "0                 327             346  \n",
       "1                 384             407  \n",
       "2                 412             442  \n",
       "3                 340             367  \n",
       "4                 700             712  "
      ]
     },
     "execution_count": 27,
     "metadata": {},
     "output_type": "execute_result"
    }
   ],
   "source": [
    "joinedDf.head()"
   ]
  },
  {
   "cell_type": "markdown",
   "id": "nonprofit-album",
   "metadata": {
    "papermill": {
     "duration": 0.069243,
     "end_time": "2023-04-08T16:15:48.455098",
     "exception": false,
     "start_time": "2023-04-08T16:15:48.385855",
     "status": "completed"
    },
    "tags": []
   },
   "source": [
    "# Calories burned between weekdays and weekends"
   ]
  },
  {
   "cell_type": "code",
   "execution_count": 28,
   "id": "electric-franchise",
   "metadata": {
    "execution": {
     "iopub.execute_input": "2023-04-08T16:15:48.595858Z",
     "iopub.status.busy": "2023-04-08T16:15:48.595114Z",
     "iopub.status.idle": "2023-04-08T16:15:48.620233Z",
     "shell.execute_reply": "2023-04-08T16:15:48.620882Z",
     "shell.execute_reply.started": "2021-07-05T09:09:00.485744Z"
    },
    "papermill": {
     "duration": 0.096893,
     "end_time": "2023-04-08T16:15:48.621082",
     "exception": false,
     "start_time": "2023-04-08T16:15:48.524189",
     "status": "completed"
    },
    "tags": []
   },
   "outputs": [
    {
     "data": {
      "text/html": [
       "<div>\n",
       "<style scoped>\n",
       "    .dataframe tbody tr th:only-of-type {\n",
       "        vertical-align: middle;\n",
       "    }\n",
       "\n",
       "    .dataframe tbody tr th {\n",
       "        vertical-align: top;\n",
       "    }\n",
       "\n",
       "    .dataframe thead th {\n",
       "        text-align: right;\n",
       "    }\n",
       "</style>\n",
       "<table border=\"1\" class=\"dataframe\">\n",
       "  <thead>\n",
       "    <tr style=\"text-align: right;\">\n",
       "      <th></th>\n",
       "      <th>count</th>\n",
       "      <th>mean</th>\n",
       "      <th>std</th>\n",
       "      <th>min</th>\n",
       "      <th>25%</th>\n",
       "      <th>50%</th>\n",
       "      <th>75%</th>\n",
       "      <th>max</th>\n",
       "    </tr>\n",
       "    <tr>\n",
       "      <th>weekend_weekday</th>\n",
       "      <th></th>\n",
       "      <th></th>\n",
       "      <th></th>\n",
       "      <th></th>\n",
       "      <th></th>\n",
       "      <th></th>\n",
       "      <th></th>\n",
       "      <th></th>\n",
       "    </tr>\n",
       "  </thead>\n",
       "  <tbody>\n",
       "    <tr>\n",
       "      <th>Weekday</th>\n",
       "      <td>695.0</td>\n",
       "      <td>2301.516547</td>\n",
       "      <td>704.675507</td>\n",
       "      <td>0.0</td>\n",
       "      <td>1841.0</td>\n",
       "      <td>2159.0</td>\n",
       "      <td>2799.5</td>\n",
       "      <td>4900.0</td>\n",
       "    </tr>\n",
       "    <tr>\n",
       "      <th>Weekend</th>\n",
       "      <td>245.0</td>\n",
       "      <td>2309.546939</td>\n",
       "      <td>756.589860</td>\n",
       "      <td>0.0</td>\n",
       "      <td>1792.0</td>\n",
       "      <td>2096.0</td>\n",
       "      <td>2739.0</td>\n",
       "      <td>4552.0</td>\n",
       "    </tr>\n",
       "  </tbody>\n",
       "</table>\n",
       "</div>"
      ],
      "text/plain": [
       "                 count         mean         std  min     25%     50%     75%  \\\n",
       "weekend_weekday                                                                \n",
       "Weekday          695.0  2301.516547  704.675507  0.0  1841.0  2159.0  2799.5   \n",
       "Weekend          245.0  2309.546939  756.589860  0.0  1792.0  2096.0  2739.0   \n",
       "\n",
       "                    max  \n",
       "weekend_weekday          \n",
       "Weekday          4900.0  \n",
       "Weekend          4552.0  "
      ]
     },
     "execution_count": 28,
     "metadata": {},
     "output_type": "execute_result"
    }
   ],
   "source": [
    "dailyActivity.groupby('weekend_weekday')['Calories'].describe()"
   ]
  },
  {
   "cell_type": "markdown",
   "id": "former-burton",
   "metadata": {
    "papermill": {
     "duration": 0.067619,
     "end_time": "2023-04-08T16:15:48.758034",
     "exception": false,
     "start_time": "2023-04-08T16:15:48.690415",
     "status": "completed"
    },
    "tags": []
   },
   "source": [
    "# Sleep quality between weekdays and weekends"
   ]
  },
  {
   "cell_type": "code",
   "execution_count": 29,
   "id": "original-helena",
   "metadata": {
    "execution": {
     "iopub.execute_input": "2023-04-08T16:15:48.918162Z",
     "iopub.status.busy": "2023-04-08T16:15:48.916433Z",
     "iopub.status.idle": "2023-04-08T16:15:48.959563Z",
     "shell.execute_reply": "2023-04-08T16:15:48.958853Z",
     "shell.execute_reply.started": "2021-07-05T09:09:00.517118Z"
    },
    "papermill": {
     "duration": 0.13256,
     "end_time": "2023-04-08T16:15:48.959720",
     "exception": false,
     "start_time": "2023-04-08T16:15:48.827160",
     "status": "completed"
    },
    "tags": []
   },
   "outputs": [
    {
     "data": {
      "text/html": [
       "<div>\n",
       "<style scoped>\n",
       "    .dataframe tbody tr th:only-of-type {\n",
       "        vertical-align: middle;\n",
       "    }\n",
       "\n",
       "    .dataframe tbody tr th {\n",
       "        vertical-align: top;\n",
       "    }\n",
       "\n",
       "    .dataframe thead tr th {\n",
       "        text-align: left;\n",
       "    }\n",
       "\n",
       "    .dataframe thead tr:last-of-type th {\n",
       "        text-align: right;\n",
       "    }\n",
       "</style>\n",
       "<table border=\"1\" class=\"dataframe\">\n",
       "  <thead>\n",
       "    <tr>\n",
       "      <th></th>\n",
       "      <th colspan=\"8\" halign=\"left\">TotalSleepRecords</th>\n",
       "      <th colspan=\"8\" halign=\"left\">TotalMinutesAsleep</th>\n",
       "      <th colspan=\"8\" halign=\"left\">TotalTimeInBed</th>\n",
       "    </tr>\n",
       "    <tr>\n",
       "      <th></th>\n",
       "      <th>count</th>\n",
       "      <th>mean</th>\n",
       "      <th>std</th>\n",
       "      <th>min</th>\n",
       "      <th>25%</th>\n",
       "      <th>50%</th>\n",
       "      <th>75%</th>\n",
       "      <th>max</th>\n",
       "      <th>count</th>\n",
       "      <th>mean</th>\n",
       "      <th>std</th>\n",
       "      <th>min</th>\n",
       "      <th>25%</th>\n",
       "      <th>50%</th>\n",
       "      <th>75%</th>\n",
       "      <th>max</th>\n",
       "      <th>count</th>\n",
       "      <th>mean</th>\n",
       "      <th>std</th>\n",
       "      <th>min</th>\n",
       "      <th>25%</th>\n",
       "      <th>50%</th>\n",
       "      <th>75%</th>\n",
       "      <th>max</th>\n",
       "    </tr>\n",
       "    <tr>\n",
       "      <th>weekend_weekday</th>\n",
       "      <th></th>\n",
       "      <th></th>\n",
       "      <th></th>\n",
       "      <th></th>\n",
       "      <th></th>\n",
       "      <th></th>\n",
       "      <th></th>\n",
       "      <th></th>\n",
       "      <th></th>\n",
       "      <th></th>\n",
       "      <th></th>\n",
       "      <th></th>\n",
       "      <th></th>\n",
       "      <th></th>\n",
       "      <th></th>\n",
       "      <th></th>\n",
       "      <th></th>\n",
       "      <th></th>\n",
       "      <th></th>\n",
       "      <th></th>\n",
       "      <th></th>\n",
       "      <th></th>\n",
       "      <th></th>\n",
       "      <th></th>\n",
       "    </tr>\n",
       "  </thead>\n",
       "  <tbody>\n",
       "    <tr>\n",
       "      <th>Weekday</th>\n",
       "      <td>300.0</td>\n",
       "      <td>1.093333</td>\n",
       "      <td>0.313501</td>\n",
       "      <td>1.0</td>\n",
       "      <td>1.0</td>\n",
       "      <td>1.0</td>\n",
       "      <td>1.0</td>\n",
       "      <td>3.0</td>\n",
       "      <td>300.0</td>\n",
       "      <td>413.106667</td>\n",
       "      <td>103.459145</td>\n",
       "      <td>59.0</td>\n",
       "      <td>362.5</td>\n",
       "      <td>426.0</td>\n",
       "      <td>472.5</td>\n",
       "      <td>796.0</td>\n",
       "      <td>300.0</td>\n",
       "      <td>449.903333</td>\n",
       "      <td>108.342949</td>\n",
       "      <td>65.0</td>\n",
       "      <td>406.0</td>\n",
       "      <td>458.0</td>\n",
       "      <td>506.0</td>\n",
       "      <td>961.0</td>\n",
       "    </tr>\n",
       "    <tr>\n",
       "      <th>Weekend</th>\n",
       "      <td>113.0</td>\n",
       "      <td>1.185841</td>\n",
       "      <td>0.412931</td>\n",
       "      <td>1.0</td>\n",
       "      <td>1.0</td>\n",
       "      <td>1.0</td>\n",
       "      <td>1.0</td>\n",
       "      <td>3.0</td>\n",
       "      <td>113.0</td>\n",
       "      <td>436.353982</td>\n",
       "      <td>150.162288</td>\n",
       "      <td>58.0</td>\n",
       "      <td>361.0</td>\n",
       "      <td>465.0</td>\n",
       "      <td>530.0</td>\n",
       "      <td>775.0</td>\n",
       "      <td>113.0</td>\n",
       "      <td>481.831858</td>\n",
       "      <td>165.356428</td>\n",
       "      <td>61.0</td>\n",
       "      <td>402.0</td>\n",
       "      <td>501.0</td>\n",
       "      <td>575.0</td>\n",
       "      <td>961.0</td>\n",
       "    </tr>\n",
       "  </tbody>\n",
       "</table>\n",
       "</div>"
      ],
      "text/plain": [
       "                TotalSleepRecords                                          \\\n",
       "                            count      mean       std  min  25%  50%  75%   \n",
       "weekend_weekday                                                             \n",
       "Weekday                     300.0  1.093333  0.313501  1.0  1.0  1.0  1.0   \n",
       "Weekend                     113.0  1.185841  0.412931  1.0  1.0  1.0  1.0   \n",
       "\n",
       "                     TotalMinutesAsleep                                       \\\n",
       "                 max              count        mean         std   min    25%   \n",
       "weekend_weekday                                                                \n",
       "Weekday          3.0              300.0  413.106667  103.459145  59.0  362.5   \n",
       "Weekend          3.0              113.0  436.353982  150.162288  58.0  361.0   \n",
       "\n",
       "                                     TotalTimeInBed                          \\\n",
       "                   50%    75%    max          count        mean         std   \n",
       "weekend_weekday                                                               \n",
       "Weekday          426.0  472.5  796.0          300.0  449.903333  108.342949   \n",
       "Weekend          465.0  530.0  775.0          113.0  481.831858  165.356428   \n",
       "\n",
       "                                                   \n",
       "                  min    25%    50%    75%    max  \n",
       "weekend_weekday                                    \n",
       "Weekday          65.0  406.0  458.0  506.0  961.0  \n",
       "Weekend          61.0  402.0  501.0  575.0  961.0  "
      ]
     },
     "execution_count": 29,
     "metadata": {},
     "output_type": "execute_result"
    }
   ],
   "source": [
    "joinedDf.groupby('weekend_weekday')[['TotalSleepRecords', 'TotalMinutesAsleep', 'TotalTimeInBed']].describe()"
   ]
  },
  {
   "cell_type": "markdown",
   "id": "divine-canadian",
   "metadata": {
    "execution": {
     "iopub.execute_input": "2021-07-03T10:02:45.277639Z",
     "iopub.status.busy": "2021-07-03T10:02:45.276958Z",
     "iopub.status.idle": "2021-07-03T10:02:45.284129Z",
     "shell.execute_reply": "2021-07-03T10:02:45.28306Z",
     "shell.execute_reply.started": "2021-07-03T10:02:45.277588Z"
    },
    "papermill": {
     "duration": 0.06832,
     "end_time": "2023-04-08T16:15:49.097548",
     "exception": false,
     "start_time": "2023-04-08T16:15:49.029228",
     "status": "completed"
    },
    "tags": []
   },
   "source": [
    "### Based on this data, it seems that the users have a much better sleep quality on average on the weekends. Also, it seems that they burned more calories on the weekends as well, which further confirms my earlier hypothesis that saturdays are the most popular day for users to engage in physical exercises. "
   ]
  },
  {
   "cell_type": "markdown",
   "id": "informative-malawi",
   "metadata": {
    "papermill": {
     "duration": 0.068573,
     "end_time": "2023-04-08T16:15:49.234610",
     "exception": false,
     "start_time": "2023-04-08T16:15:49.166037",
     "status": "completed"
    },
    "tags": []
   },
   "source": [
    "# Let's see the relationship between total sleep minutes and total time in bed subgrouped by the type of week"
   ]
  },
  {
   "cell_type": "code",
   "execution_count": 30,
   "id": "isolated-tutorial",
   "metadata": {
    "execution": {
     "iopub.execute_input": "2023-04-08T16:15:49.382188Z",
     "iopub.status.busy": "2023-04-08T16:15:49.381420Z",
     "iopub.status.idle": "2023-04-08T16:15:50.509932Z",
     "shell.execute_reply": "2023-04-08T16:15:50.509320Z",
     "shell.execute_reply.started": "2021-07-05T09:09:00.577789Z"
    },
    "papermill": {
     "duration": 1.20733,
     "end_time": "2023-04-08T16:15:50.510077",
     "exception": false,
     "start_time": "2023-04-08T16:15:49.302747",
     "status": "completed"
    },
    "tags": []
   },
   "outputs": [
    {
     "data": {
      "image/png": "[encoded data removed]",
      "text/plain": [
       "<Figure size 1106.38x504 with 2 Axes>"
      ]
     },
     "metadata": {},
     "output_type": "display_data"
    }
   ],
   "source": [
    "sleep = sns.relplot(\n",
    "    data = joinedDf, \n",
    "    x = 'TotalMinutesAsleep',\n",
    "    y = 'TotalTimeInBed',\n",
    "    col = 'weekend_weekday',\n",
    "    hue = 'TotalSleepRecords',\n",
    "    height = 7\n",
    ")\n",
    "\n",
    "sleep.fig.suptitle('Total Minutes Asleep Vs Total Time in Bed',  y = 1.03)\n",
    "sleep.set_titles(\"Week: {col_name}\")\n",
    "plt.show()"
   ]
  },
  {
   "cell_type": "markdown",
   "id": "nearby-adventure",
   "metadata": {
    "papermill": {
     "duration": 0.070015,
     "end_time": "2023-04-08T16:15:50.652317",
     "exception": false,
     "start_time": "2023-04-08T16:15:50.582302",
     "status": "completed"
    },
    "tags": []
   },
   "source": [
    "### Both display a positive relationship. I guess it's common sense that the longer you stay in bed, the more likely you will fall into sleep. Let's analyze this in another way.\n",
    "\n",
    "### Based on a study [here](https://www.sleepfoundation.org/how-sleep-works/how-much-sleep-do-we-really-need), healthy adults are suggested to sleep between 7-9 hours. Therefore, I will categorized those who slept below 7 as Bad Sleepers, those who slept beyond 9 hours Oversleepers, and those between 7 and 9 hours as normal. "
   ]
  },
  {
   "cell_type": "code",
   "execution_count": 31,
   "id": "julian-reasoning",
   "metadata": {
    "execution": {
     "iopub.execute_input": "2023-04-08T16:15:50.816042Z",
     "iopub.status.busy": "2023-04-08T16:15:50.806190Z",
     "iopub.status.idle": "2023-04-08T16:15:51.476210Z",
     "shell.execute_reply": "2023-04-08T16:15:51.475511Z",
     "shell.execute_reply.started": "2021-07-05T09:09:01.721003Z"
    },
    "papermill": {
     "duration": 0.751648,
     "end_time": "2023-04-08T16:15:51.476373",
     "exception": false,
     "start_time": "2023-04-08T16:15:50.724725",
     "status": "completed"
    },
    "tags": []
   },
   "outputs": [
    {
     "data": {
      "image/png": "[encoded data removed]",
      "text/plain": [
       "<Figure size 1440x1080 with 1 Axes>"
      ]
     },
     "metadata": {},
     "output_type": "display_data"
    },
    {
     "data": {
      "image/png": "[encoded data removed]",
      "text/plain": [
       "<Figure size 1440x1080 with 1 Axes>"
      ]
     },
     "metadata": {},
     "output_type": "display_data"
    }
   ],
   "source": [
    "# convert to proper minutes\n",
    "sleepDay['TotalMinutesAsleep'] = pd.to_timedelta(sleepDay['TotalMinutesAsleep'], unit = 'm')\n",
    "sleepDay['TotalMinutesAsleep'] = sleepDay['TotalMinutesAsleep'].astype('timedelta64[m]')\n",
    "\n",
    "#convert to hours\n",
    "sleepDay['TotalHoursAsleep'] = sleepDay['TotalMinutesAsleep'] / 60\n",
    "\n",
    "# round to nearest hundreths \n",
    "sleepDay['TotalHoursAsleep'] = sleepDay['TotalHoursAsleep'].round(2)\n",
    "\n",
    "#add sleep status\n",
    "sleepDay['SleepStatus'] = np.where(sleepDay['TotalHoursAsleep'] < 7, 'Bad Sleepers', \n",
    "         (np.where( sleepDay['TotalHoursAsleep'] > 9, 'Oversleepers', 'Normal Sleepers'))\n",
    "        ) \n",
    "#used ternary operator. link for future me's reference: https://stackoverflow.com/questions/39109045/numpy-where-with-multiple-conditions\n",
    "#np.select article by dataquest: https://www.dataquest.io/blog/tutorial-add-column-pandas-dataframe-based-on-if-else-condition/\n",
    "\n",
    "sleepDay['day_name'] = sleepDay['SleepDay'].dt.day_name()\n",
    "sleepDay['weekend_weekday'] = np.where(sleepDay['SleepDay'].dt.dayofweek > 4, 'Weekend', 'Weekday')\n",
    "\n",
    "sleepDay.head()\n",
    "\n",
    "#Overview\n",
    "fig_dims = (20, 15)\n",
    "fig, ax = plt.subplots(figsize = fig_dims)\n",
    "overview = sns.countplot(\n",
    "    data = sleepDay,\n",
    "    x = sleepDay['SleepStatus'],\n",
    "    hue = 'weekend_weekday',\n",
    "    ax = ax\n",
    ")\n",
    "overview.set_title('Overview Look of Sleep Statuses', fontsize = 20)\n",
    "overview.set_xlabel('Sleep Status', fontsize = 20)\n",
    "overview.set_ylabel('Total', fontsize = 20)\n",
    "plt.xticks(size = 20)\n",
    "plt.yticks(size = 20)\n",
    "\n",
    "plt.show()\n",
    "\n",
    "#by Day of the week\n",
    "fig_dims = (20, 15)\n",
    "fig, ax = plt.subplots(figsize = fig_dims)\n",
    "overview2 = sns.countplot(\n",
    "    data = sleepDay,\n",
    "    x = sleepDay['SleepStatus'],\n",
    "    hue = 'day_name',\n",
    "    ax = ax\n",
    ")\n",
    "overview2.set_title('Overview Look of Sleep Statuses by Day of The Week', fontsize = 20)\n",
    "overview2.set_xlabel('Sleep Status', fontsize = 20)\n",
    "overview2.set_ylabel('Total', fontsize = 20)\n",
    "plt.xticks(size = 20)\n",
    "plt.yticks(size = 20)\n",
    "\n",
    "plt.show()"
   ]
  },
  {
   "cell_type": "markdown",
   "id": "indonesian-harvard",
   "metadata": {
    "papermill": {
     "duration": 0.074908,
     "end_time": "2023-04-08T16:15:51.626770",
     "exception": false,
     "start_time": "2023-04-08T16:15:51.551862",
     "status": "completed"
    },
    "tags": []
   },
   "source": [
    "### Overall it seems that people tend to oversleep the most on a Sunday, and they often sleep below 7 hours the most on a Tuesday. It makes sense for many people to oversleep on a Sunday as most people won't need to work. However, as I've categorized those sleeping over 9 hours as Bad Sleepers, Bellabeat should make an effort to advice its users to avoid sleeping in on Sundays in order to not damage their health. \n",
    "\n",
    "### Also it seems that the users underslept the most on Tuesdays. Not sure why this is the case, I should try to investigate this. \n",
    "\n",
    "\n"
   ]
  },
  {
   "cell_type": "markdown",
   "id": "touched-robertson",
   "metadata": {
    "papermill": {
     "duration": 0.079447,
     "end_time": "2023-04-08T16:15:51.783391",
     "exception": false,
     "start_time": "2023-04-08T16:15:51.703944",
     "status": "completed"
    },
    "tags": []
   },
   "source": [
    "# Let's look back at my summary data based on the users' active status."
   ]
  },
  {
   "cell_type": "code",
   "execution_count": 32,
   "id": "fatty-marijuana",
   "metadata": {
    "execution": {
     "iopub.execute_input": "2023-04-08T16:15:51.954569Z",
     "iopub.status.busy": "2023-04-08T16:15:51.953547Z",
     "iopub.status.idle": "2023-04-08T16:15:51.958291Z",
     "shell.execute_reply": "2023-04-08T16:15:51.957751Z",
     "shell.execute_reply.started": "2021-07-05T09:09:02.316255Z"
    },
    "papermill": {
     "duration": 0.095917,
     "end_time": "2023-04-08T16:15:51.958435",
     "exception": false,
     "start_time": "2023-04-08T16:15:51.862518",
     "status": "completed"
    },
    "tags": []
   },
   "outputs": [
    {
     "data": {
      "text/html": [
       "<div>\n",
       "<style scoped>\n",
       "    .dataframe tbody tr th:only-of-type {\n",
       "        vertical-align: middle;\n",
       "    }\n",
       "\n",
       "    .dataframe tbody tr th {\n",
       "        vertical-align: top;\n",
       "    }\n",
       "\n",
       "    .dataframe thead th {\n",
       "        text-align: right;\n",
       "    }\n",
       "</style>\n",
       "<table border=\"1\" class=\"dataframe\">\n",
       "  <thead>\n",
       "    <tr style=\"text-align: right;\">\n",
       "      <th></th>\n",
       "      <th>FairlyActiveMinutes</th>\n",
       "      <th>LightlyActiveMinutes</th>\n",
       "      <th>SedentaryMinutes</th>\n",
       "      <th>VeryActiveMinutes</th>\n",
       "    </tr>\n",
       "    <tr>\n",
       "      <th>day_name</th>\n",
       "      <th></th>\n",
       "      <th></th>\n",
       "      <th></th>\n",
       "      <th></th>\n",
       "    </tr>\n",
       "  </thead>\n",
       "  <tbody>\n",
       "    <tr>\n",
       "      <th>Friday</th>\n",
       "      <td>12.111111</td>\n",
       "      <td>204.198413</td>\n",
       "      <td>1000.309524</td>\n",
       "      <td>20.055556</td>\n",
       "    </tr>\n",
       "    <tr>\n",
       "      <th>Monday</th>\n",
       "      <td>14.000000</td>\n",
       "      <td>192.058333</td>\n",
       "      <td>1027.941667</td>\n",
       "      <td>23.108333</td>\n",
       "    </tr>\n",
       "    <tr>\n",
       "      <th>Saturday</th>\n",
       "      <td>15.201613</td>\n",
       "      <td>207.145161</td>\n",
       "      <td>964.282258</td>\n",
       "      <td>21.919355</td>\n",
       "    </tr>\n",
       "    <tr>\n",
       "      <th>Sunday</th>\n",
       "      <td>14.528926</td>\n",
       "      <td>173.975207</td>\n",
       "      <td>990.256198</td>\n",
       "      <td>19.983471</td>\n",
       "    </tr>\n",
       "    <tr>\n",
       "      <th>Thursday</th>\n",
       "      <td>11.959184</td>\n",
       "      <td>185.421769</td>\n",
       "      <td>961.993197</td>\n",
       "      <td>19.408163</td>\n",
       "    </tr>\n",
       "    <tr>\n",
       "      <th>Tuesday</th>\n",
       "      <td>14.335526</td>\n",
       "      <td>197.342105</td>\n",
       "      <td>1007.361842</td>\n",
       "      <td>22.953947</td>\n",
       "    </tr>\n",
       "    <tr>\n",
       "      <th>Wednesday</th>\n",
       "      <td>13.100000</td>\n",
       "      <td>189.853333</td>\n",
       "      <td>989.480000</td>\n",
       "      <td>20.780000</td>\n",
       "    </tr>\n",
       "  </tbody>\n",
       "</table>\n",
       "</div>"
      ],
      "text/plain": [
       "           FairlyActiveMinutes  LightlyActiveMinutes  SedentaryMinutes  \\\n",
       "day_name                                                                 \n",
       "Friday               12.111111            204.198413       1000.309524   \n",
       "Monday               14.000000            192.058333       1027.941667   \n",
       "Saturday             15.201613            207.145161        964.282258   \n",
       "Sunday               14.528926            173.975207        990.256198   \n",
       "Thursday             11.959184            185.421769        961.993197   \n",
       "Tuesday              14.335526            197.342105       1007.361842   \n",
       "Wednesday            13.100000            189.853333        989.480000   \n",
       "\n",
       "           VeryActiveMinutes  \n",
       "day_name                      \n",
       "Friday             20.055556  \n",
       "Monday             23.108333  \n",
       "Saturday           21.919355  \n",
       "Sunday             19.983471  \n",
       "Thursday           19.408163  \n",
       "Tuesday            22.953947  \n",
       "Wednesday          20.780000  "
      ]
     },
     "execution_count": 32,
     "metadata": {},
     "output_type": "execute_result"
    }
   ],
   "source": [
    "byMinute"
   ]
  },
  {
   "cell_type": "markdown",
   "id": "alike-delicious",
   "metadata": {
    "papermill": {
     "duration": 0.077435,
     "end_time": "2023-04-08T16:15:52.112964",
     "exception": false,
     "start_time": "2023-04-08T16:15:52.035529",
     "status": "completed"
    },
    "tags": []
   },
   "source": [
    "### A quick glimpse back, the users are the most idle on Mondays, and other than their Very Active Minutes, the average for the rest seemed to have increased on Tuesday. However, there isn't much I could tell just based on these information as there's not much signicant difference. Maybe the heartrate dataset can help me?"
   ]
  },
  {
   "cell_type": "markdown",
   "id": "brown-hampton",
   "metadata": {
    "papermill": {
     "duration": 0.074265,
     "end_time": "2023-04-08T16:15:52.267629",
     "exception": false,
     "start_time": "2023-04-08T16:15:52.193364",
     "status": "completed"
    },
    "tags": []
   },
   "source": [
    "# Let's analyze the heartrate dataset"
   ]
  },
  {
   "cell_type": "code",
   "execution_count": 33,
   "id": "identical-afghanistan",
   "metadata": {
    "execution": {
     "iopub.execute_input": "2023-04-08T16:15:52.428755Z",
     "iopub.status.busy": "2023-04-08T16:15:52.427787Z",
     "iopub.status.idle": "2023-04-08T16:15:52.557334Z",
     "shell.execute_reply": "2023-04-08T16:15:52.556554Z",
     "shell.execute_reply.started": "2021-07-05T09:09:02.330336Z"
    },
    "papermill": {
     "duration": 0.215281,
     "end_time": "2023-04-08T16:15:52.557489",
     "exception": false,
     "start_time": "2023-04-08T16:15:52.342208",
     "status": "completed"
    },
    "tags": []
   },
   "outputs": [
    {
     "name": "stdout",
     "output_type": "stream",
     "text": [
      "           Id                  Time  Value\n",
      "0  2022484408  4/12/2016 7:21:00 AM     97\n",
      "1  2022484408  4/12/2016 7:21:05 AM    102\n",
      "2  2022484408  4/12/2016 7:21:10 AM    105\n",
      "3  2022484408  4/12/2016 7:21:20 AM    103\n",
      "4  2022484408  4/12/2016 7:21:25 AM    101\n",
      "\n",
      "\n",
      "count    2483658.0\n",
      "mean          77.0\n",
      "std           19.0\n",
      "min           36.0\n",
      "25%           63.0\n",
      "50%           73.0\n",
      "75%           88.0\n",
      "max          203.0\n",
      "Name: Value, dtype: float64\n",
      "\n",
      "Number of Users in This Dataset: 14\n"
     ]
    }
   ],
   "source": [
    "# There's 2,483,658 rows!\n",
    "heartrateSeconds.shape\n",
    "print(heartrateSeconds.head())\n",
    "summary = round(heartrateSeconds['Value'].describe())\n",
    "print('\\n')\n",
    "print(summary)\n",
    "unique = heartrateSeconds['Id'].nunique() #there's only 14 unique uses\n",
    "print('\\nNumber of Users in This Dataset: ' + str(unique))"
   ]
  },
  {
   "cell_type": "markdown",
   "id": "front-cooper",
   "metadata": {
    "papermill": {
     "duration": 0.075619,
     "end_time": "2023-04-08T16:15:52.709276",
     "exception": false,
     "start_time": "2023-04-08T16:15:52.633657",
     "status": "completed"
    },
    "tags": []
   },
   "source": [
    "### Since FitBit collects heart-rates in BPM, or Beats Per Minute, the Value column is therefore the BPM collected. According to FitBit's [website](https://healthsolutions.fitbit.com/blog/how-do-fitbit-trackers-monitor-heart-rate/), a typical resting heart-rate range is 60 to 100 beats per minute for adults. It also mentions that active people often have a lower resting heart rate, therefore drastic changes to this number can signify health issues and should be discussed with a doctor.\n",
    "\n",
    "### Moving on to the summary:\n",
    "1. The average heart rate is 77, which is inside the range of a typical resting heart-rate range. \n",
    "2. Seems like there's someone that had a maximun BPM of 203. That is quite worrisome. Bellabeat should consider implementing a system that allows their users to be notified if their BPM is outside the range of 60 to 100 and be checked out by a doctor. "
   ]
  },
  {
   "cell_type": "markdown",
   "id": "ethical-madison",
   "metadata": {
    "papermill": {
     "duration": 0.076319,
     "end_time": "2023-04-08T16:15:52.862064",
     "exception": false,
     "start_time": "2023-04-08T16:15:52.785745",
     "status": "completed"
    },
    "tags": []
   },
   "source": [
    "## Alright let's start with analyzing whether the heart-rate has anything to do with people undersleeping."
   ]
  },
  {
   "cell_type": "code",
   "execution_count": 34,
   "id": "returning-surrey",
   "metadata": {
    "execution": {
     "iopub.execute_input": "2023-04-08T16:16:02.380359Z",
     "iopub.status.busy": "2023-04-08T16:16:02.377677Z",
     "iopub.status.idle": "2023-04-08T16:16:03.559862Z",
     "shell.execute_reply": "2023-04-08T16:16:03.559088Z",
     "shell.execute_reply.started": "2021-07-05T09:09:02.46629Z"
    },
    "papermill": {
     "duration": 10.622432,
     "end_time": "2023-04-08T16:16:03.560033",
     "exception": false,
     "start_time": "2023-04-08T16:15:52.937601",
     "status": "completed"
    },
    "tags": []
   },
   "outputs": [
    {
     "data": {
      "text/plain": [
       "Time\n",
       "Friday       77.520836\n",
       "Monday       77.454335\n",
       "Saturday     79.973815\n",
       "Sunday       75.925004\n",
       "Thursday     77.035902\n",
       "Tuesday      77.013723\n",
       "Wednesday    76.451580\n",
       "Name: Value, dtype: float64"
      ]
     },
     "execution_count": 34,
     "metadata": {},
     "output_type": "execute_result"
    }
   ],
   "source": [
    "#Ensure proper time formatting\n",
    "heartrateSeconds['Time'] = pd.to_datetime(heartrateSeconds['Time'], format = '%m/%d/%Y %I:%M:%S %p')\n",
    "\n",
    "mean = heartrateSeconds.groupby(heartrateSeconds['Time'].dt.day_name())['Value'].mean()\n",
    "mean\n"
   ]
  },
  {
   "cell_type": "markdown",
   "id": "derived-genetics",
   "metadata": {
    "papermill": {
     "duration": 0.075089,
     "end_time": "2023-04-08T16:16:03.711705",
     "exception": false,
     "start_time": "2023-04-08T16:16:03.636616",
     "status": "completed"
    },
    "tags": []
   },
   "source": [
    "### Sadly, it doesn't seem like information on the heart-rate seem to be of help here. But the average seems to be highest on Saturdays, which I'd assume it's due to the fact that the users exercise the most on Saturdays. It doesn't seem I would be able to determine why some people undersleep with the information I currently have right now. "
   ]
  },
  {
   "cell_type": "markdown",
   "id": "relative-pound",
   "metadata": {
    "papermill": {
     "duration": 0.07658,
     "end_time": "2023-04-08T16:16:03.862875",
     "exception": false,
     "start_time": "2023-04-08T16:16:03.786295",
     "status": "completed"
    },
    "tags": []
   },
   "source": [
    "### Let's look at the average heart-rate per minute for each hour of the day"
   ]
  },
  {
   "cell_type": "code",
   "execution_count": 35,
   "id": "revolutionary-sterling",
   "metadata": {
    "execution": {
     "iopub.execute_input": "2023-04-08T16:16:04.025278Z",
     "iopub.status.busy": "2023-04-08T16:16:04.024535Z",
     "iopub.status.idle": "2023-04-08T16:16:04.806515Z",
     "shell.execute_reply": "2023-04-08T16:16:04.805914Z",
     "shell.execute_reply.started": "2021-07-05T09:09:18.702424Z"
    },
    "papermill": {
     "duration": 0.86584,
     "end_time": "2023-04-08T16:16:04.806680",
     "exception": false,
     "start_time": "2023-04-08T16:16:03.940840",
     "status": "completed"
    },
    "tags": []
   },
   "outputs": [
    {
     "data": {
      "text/plain": [
       "Text(0.5, 1.0, 'Average Heart-Rate Per Minute Based on Time (Hour)')"
      ]
     },
     "execution_count": 35,
     "metadata": {},
     "output_type": "execute_result"
    },
    {
     "data": {
      "image/png": "[encoded data removed]",
      "text/plain": [
       "<Figure size 1656x936 with 1 Axes>"
      ]
     },
     "metadata": {},
     "output_type": "display_data"
    }
   ],
   "source": [
    "mean = heartrateSeconds.groupby(heartrateSeconds['Time'].dt.hour)['Value'].mean()\n",
    "fig_dims = (23, 13)\n",
    "fig, ax = plt.subplots(figsize=fig_dims)\n",
    "\n",
    "# create temporary dataframe\n",
    "tempDf = pd.DataFrame(mean)\n",
    "\n",
    "tempDf\n",
    "\n",
    "t = sns.barplot(\n",
    "    data = tempDf, \n",
    "    x = tempDf.index,\n",
    "    y = 'Value'\n",
    ")\n",
    "\n",
    "t.set_xlabel('Time (Hour)', fontsize = 20)\n",
    "t.set_ylabel('Average HeartRate', fontsize = 20)\n",
    "t.set_title('Average Heart-Rate Per Minute Based on Time (Hour)', fontsize = 20)"
   ]
  },
  {
   "cell_type": "markdown",
   "id": "ultimate-submission",
   "metadata": {
    "papermill": {
     "duration": 0.076089,
     "end_time": "2023-04-08T16:16:04.961930",
     "exception": false,
     "start_time": "2023-04-08T16:16:04.885841",
     "status": "completed"
    },
    "tags": []
   },
   "source": [
    "### Average Heart-rate per minute is generally slower during the night, which is understandable since most people will be resting during the night. Heart-rate is high between 9am to 6pm, and starts to drop after 6pm. Heart rate also seems to be at its highest at 12pm and 6pm. Seems like users are somewhat tensed during these two distinct hours. "
   ]
  },
  {
   "cell_type": "markdown",
   "id": "measured-cathedral",
   "metadata": {
    "papermill": {
     "duration": 0.076647,
     "end_time": "2023-04-08T16:16:05.121074",
     "exception": false,
     "start_time": "2023-04-08T16:16:05.044427",
     "status": "completed"
    },
    "tags": []
   },
   "source": [
    "# Let's try analyzing daily steps"
   ]
  },
  {
   "cell_type": "code",
   "execution_count": 36,
   "id": "ranging-vulnerability",
   "metadata": {
    "execution": {
     "iopub.execute_input": "2023-04-08T16:16:05.287668Z",
     "iopub.status.busy": "2023-04-08T16:16:05.286911Z",
     "iopub.status.idle": "2023-04-08T16:16:05.320047Z",
     "shell.execute_reply": "2023-04-08T16:16:05.320601Z",
     "shell.execute_reply.started": "2021-07-05T09:09:19.450032Z"
    },
    "papermill": {
     "duration": 0.121844,
     "end_time": "2023-04-08T16:16:05.320786",
     "exception": false,
     "start_time": "2023-04-08T16:16:05.198942",
     "status": "completed"
    },
    "tags": []
   },
   "outputs": [
    {
     "data": {
      "text/html": [
       "<div>\n",
       "<style scoped>\n",
       "    .dataframe tbody tr th:only-of-type {\n",
       "        vertical-align: middle;\n",
       "    }\n",
       "\n",
       "    .dataframe tbody tr th {\n",
       "        vertical-align: top;\n",
       "    }\n",
       "\n",
       "    .dataframe thead th {\n",
       "        text-align: right;\n",
       "    }\n",
       "</style>\n",
       "<table border=\"1\" class=\"dataframe\">\n",
       "  <thead>\n",
       "    <tr style=\"text-align: right;\">\n",
       "      <th></th>\n",
       "      <th>Id</th>\n",
       "      <th>ActivityDate</th>\n",
       "      <th>TotalSteps</th>\n",
       "      <th>TotalDistance</th>\n",
       "      <th>TrackerDistance</th>\n",
       "      <th>LoggedActivitiesDistance</th>\n",
       "      <th>VeryActiveDistance</th>\n",
       "      <th>ModeratelyActiveDistance</th>\n",
       "      <th>LightActiveDistance</th>\n",
       "      <th>SedentaryActiveDistance</th>\n",
       "      <th>VeryActiveMinutes</th>\n",
       "      <th>FairlyActiveMinutes</th>\n",
       "      <th>LightlyActiveMinutes</th>\n",
       "      <th>SedentaryMinutes</th>\n",
       "      <th>Calories</th>\n",
       "      <th>day_name_x</th>\n",
       "      <th>weekend_weekday_x</th>\n",
       "      <th>date</th>\n",
       "      <th>SleepDay</th>\n",
       "      <th>TotalSleepRecords</th>\n",
       "      <th>TotalMinutesAsleep</th>\n",
       "      <th>TotalTimeInBed</th>\n",
       "      <th>TotalHoursAsleep</th>\n",
       "      <th>SleepStatus</th>\n",
       "      <th>day_name_y</th>\n",
       "      <th>weekend_weekday_y</th>\n",
       "    </tr>\n",
       "  </thead>\n",
       "  <tbody>\n",
       "    <tr>\n",
       "      <th>0</th>\n",
       "      <td>1503960366</td>\n",
       "      <td>2016-04-12</td>\n",
       "      <td>13162</td>\n",
       "      <td>8.50</td>\n",
       "      <td>8.50</td>\n",
       "      <td>0.0</td>\n",
       "      <td>1.88</td>\n",
       "      <td>0.55</td>\n",
       "      <td>6.06</td>\n",
       "      <td>0.0</td>\n",
       "      <td>25</td>\n",
       "      <td>13</td>\n",
       "      <td>328</td>\n",
       "      <td>728</td>\n",
       "      <td>1985</td>\n",
       "      <td>Tuesday</td>\n",
       "      <td>Weekday</td>\n",
       "      <td>2016-04-12</td>\n",
       "      <td>2016-04-12</td>\n",
       "      <td>1</td>\n",
       "      <td>327.0</td>\n",
       "      <td>346</td>\n",
       "      <td>5.45</td>\n",
       "      <td>Bad Sleepers</td>\n",
       "      <td>Tuesday</td>\n",
       "      <td>Weekday</td>\n",
       "    </tr>\n",
       "    <tr>\n",
       "      <th>1</th>\n",
       "      <td>1503960366</td>\n",
       "      <td>2016-04-13</td>\n",
       "      <td>10735</td>\n",
       "      <td>6.97</td>\n",
       "      <td>6.97</td>\n",
       "      <td>0.0</td>\n",
       "      <td>1.57</td>\n",
       "      <td>0.69</td>\n",
       "      <td>4.71</td>\n",
       "      <td>0.0</td>\n",
       "      <td>21</td>\n",
       "      <td>19</td>\n",
       "      <td>217</td>\n",
       "      <td>776</td>\n",
       "      <td>1797</td>\n",
       "      <td>Wednesday</td>\n",
       "      <td>Weekday</td>\n",
       "      <td>2016-04-13</td>\n",
       "      <td>2016-04-13</td>\n",
       "      <td>2</td>\n",
       "      <td>384.0</td>\n",
       "      <td>407</td>\n",
       "      <td>6.40</td>\n",
       "      <td>Bad Sleepers</td>\n",
       "      <td>Wednesday</td>\n",
       "      <td>Weekday</td>\n",
       "    </tr>\n",
       "    <tr>\n",
       "      <th>2</th>\n",
       "      <td>1503960366</td>\n",
       "      <td>2016-04-15</td>\n",
       "      <td>9762</td>\n",
       "      <td>6.28</td>\n",
       "      <td>6.28</td>\n",
       "      <td>0.0</td>\n",
       "      <td>2.14</td>\n",
       "      <td>1.26</td>\n",
       "      <td>2.83</td>\n",
       "      <td>0.0</td>\n",
       "      <td>29</td>\n",
       "      <td>34</td>\n",
       "      <td>209</td>\n",
       "      <td>726</td>\n",
       "      <td>1745</td>\n",
       "      <td>Friday</td>\n",
       "      <td>Weekday</td>\n",
       "      <td>2016-04-15</td>\n",
       "      <td>2016-04-15</td>\n",
       "      <td>1</td>\n",
       "      <td>412.0</td>\n",
       "      <td>442</td>\n",
       "      <td>6.87</td>\n",
       "      <td>Bad Sleepers</td>\n",
       "      <td>Friday</td>\n",
       "      <td>Weekday</td>\n",
       "    </tr>\n",
       "    <tr>\n",
       "      <th>3</th>\n",
       "      <td>1503960366</td>\n",
       "      <td>2016-04-16</td>\n",
       "      <td>12669</td>\n",
       "      <td>8.16</td>\n",
       "      <td>8.16</td>\n",
       "      <td>0.0</td>\n",
       "      <td>2.71</td>\n",
       "      <td>0.41</td>\n",
       "      <td>5.04</td>\n",
       "      <td>0.0</td>\n",
       "      <td>36</td>\n",
       "      <td>10</td>\n",
       "      <td>221</td>\n",
       "      <td>773</td>\n",
       "      <td>1863</td>\n",
       "      <td>Saturday</td>\n",
       "      <td>Weekend</td>\n",
       "      <td>2016-04-16</td>\n",
       "      <td>2016-04-16</td>\n",
       "      <td>2</td>\n",
       "      <td>340.0</td>\n",
       "      <td>367</td>\n",
       "      <td>5.67</td>\n",
       "      <td>Bad Sleepers</td>\n",
       "      <td>Saturday</td>\n",
       "      <td>Weekend</td>\n",
       "    </tr>\n",
       "    <tr>\n",
       "      <th>4</th>\n",
       "      <td>1503960366</td>\n",
       "      <td>2016-04-17</td>\n",
       "      <td>9705</td>\n",
       "      <td>6.48</td>\n",
       "      <td>6.48</td>\n",
       "      <td>0.0</td>\n",
       "      <td>3.19</td>\n",
       "      <td>0.78</td>\n",
       "      <td>2.51</td>\n",
       "      <td>0.0</td>\n",
       "      <td>38</td>\n",
       "      <td>20</td>\n",
       "      <td>164</td>\n",
       "      <td>539</td>\n",
       "      <td>1728</td>\n",
       "      <td>Sunday</td>\n",
       "      <td>Weekend</td>\n",
       "      <td>2016-04-17</td>\n",
       "      <td>2016-04-17</td>\n",
       "      <td>1</td>\n",
       "      <td>700.0</td>\n",
       "      <td>712</td>\n",
       "      <td>11.67</td>\n",
       "      <td>Oversleepers</td>\n",
       "      <td>Sunday</td>\n",
       "      <td>Weekend</td>\n",
       "    </tr>\n",
       "  </tbody>\n",
       "</table>\n",
       "</div>"
      ],
      "text/plain": [
       "           Id ActivityDate  TotalSteps  TotalDistance  TrackerDistance  \\\n",
       "0  1503960366   2016-04-12       13162           8.50             8.50   \n",
       "1  1503960366   2016-04-13       10735           6.97             6.97   \n",
       "2  1503960366   2016-04-15        9762           6.28             6.28   \n",
       "3  1503960366   2016-04-16       12669           8.16             8.16   \n",
       "4  1503960366   2016-04-17        9705           6.48             6.48   \n",
       "\n",
       "   LoggedActivitiesDistance  VeryActiveDistance  ModeratelyActiveDistance  \\\n",
       "0                       0.0                1.88                      0.55   \n",
       "1                       0.0                1.57                      0.69   \n",
       "2                       0.0                2.14                      1.26   \n",
       "3                       0.0                2.71                      0.41   \n",
       "4                       0.0                3.19                      0.78   \n",
       "\n",
       "   LightActiveDistance  SedentaryActiveDistance  VeryActiveMinutes  \\\n",
       "0                 6.06                      0.0                 25   \n",
       "1                 4.71                      0.0                 21   \n",
       "2                 2.83                      0.0                 29   \n",
       "3                 5.04                      0.0                 36   \n",
       "4                 2.51                      0.0                 38   \n",
       "\n",
       "   FairlyActiveMinutes  LightlyActiveMinutes  SedentaryMinutes  Calories  \\\n",
       "0                   13                   328               728      1985   \n",
       "1                   19                   217               776      1797   \n",
       "2                   34                   209               726      1745   \n",
       "3                   10                   221               773      1863   \n",
       "4                   20                   164               539      1728   \n",
       "\n",
       "  day_name_x weekend_weekday_x       date   SleepDay  TotalSleepRecords  \\\n",
       "0    Tuesday           Weekday 2016-04-12 2016-04-12                  1   \n",
       "1  Wednesday           Weekday 2016-04-13 2016-04-13                  2   \n",
       "2     Friday           Weekday 2016-04-15 2016-04-15                  1   \n",
       "3   Saturday           Weekend 2016-04-16 2016-04-16                  2   \n",
       "4     Sunday           Weekend 2016-04-17 2016-04-17                  1   \n",
       "\n",
       "   TotalMinutesAsleep  TotalTimeInBed  TotalHoursAsleep   SleepStatus  \\\n",
       "0               327.0             346              5.45  Bad Sleepers   \n",
       "1               384.0             407              6.40  Bad Sleepers   \n",
       "2               412.0             442              6.87  Bad Sleepers   \n",
       "3               340.0             367              5.67  Bad Sleepers   \n",
       "4               700.0             712             11.67  Oversleepers   \n",
       "\n",
       "  day_name_y weekend_weekday_y  \n",
       "0    Tuesday           Weekday  \n",
       "1  Wednesday           Weekday  \n",
       "2     Friday           Weekday  \n",
       "3   Saturday           Weekend  \n",
       "4     Sunday           Weekend  "
      ]
     },
     "execution_count": 36,
     "metadata": {},
     "output_type": "execute_result"
    }
   ],
   "source": [
    "#rejoining a new df as sleepDay was altered\n",
    "rejoined = dailyActivity.merge(sleepDay, on = ['Id', 'date'])\n",
    "rejoined.head()"
   ]
  },
  {
   "cell_type": "code",
   "execution_count": 37,
   "id": "attractive-reservation",
   "metadata": {
    "execution": {
     "iopub.execute_input": "2023-04-08T16:16:05.484003Z",
     "iopub.status.busy": "2023-04-08T16:16:05.482998Z",
     "iopub.status.idle": "2023-04-08T16:16:05.791706Z",
     "shell.execute_reply": "2023-04-08T16:16:05.792211Z",
     "shell.execute_reply.started": "2021-07-05T09:09:40.590848Z"
    },
    "papermill": {
     "duration": 0.391266,
     "end_time": "2023-04-08T16:16:05.792385",
     "exception": false,
     "start_time": "2023-04-08T16:16:05.401119",
     "status": "completed"
    },
    "tags": []
   },
   "outputs": [
    {
     "name": "stdout",
     "output_type": "stream",
     "text": [
      "    day_name   TotalSteps\n",
      "1     Monday  7780.866667\n",
      "5    Tuesday  8125.006579\n",
      "6  Wednesday  7559.373333\n",
      "4   Thursday  7405.836735\n",
      "0     Friday  7448.230159\n",
      "2   Saturday  8152.975806\n",
      "3     Sunday  6933.231405\n"
     ]
    },
    {
     "data": {
      "text/plain": [
       "Text(0.5, 1.0, 'Average Total Steps Taken by the Day of the Week')"
      ]
     },
     "execution_count": 37,
     "metadata": {},
     "output_type": "execute_result"
    },
    {
     "data": {
      "image/png": "[encoded data removed]",
      "text/plain": [
       "<Figure size 1656x936 with 1 Axes>"
      ]
     },
     "metadata": {},
     "output_type": "display_data"
    }
   ],
   "source": [
    "# Before I analyze with sleep status, let's examine just the total steps taken by weekdays\n",
    "\n",
    "meanSteps = dailyActivity.groupby('day_name')['TotalSteps'].mean()\n",
    "\n",
    "fig_dims = (23, 13)\n",
    "fig, ax = plt.subplots(figsize=fig_dims)\n",
    "\n",
    "# create temporary dataframe\n",
    "tempDf = pd.DataFrame(meanSteps)\n",
    "tempDf = tempDf.reset_index()\n",
    "\n",
    "#sort by day\n",
    "cats = ['Monday', 'Tuesday', 'Wednesday', 'Thursday', 'Friday', 'Saturday', 'Sunday']\n",
    "tempDf['day_name'] = pd.Categorical(tempDf['day_name'], categories = cats)\n",
    "tempDf = tempDf.sort_values('day_name')\n",
    "\n",
    "print(tempDf)\n",
    "\n",
    "t = sns.barplot(\n",
    "    data = tempDf, \n",
    "    x = 'day_name',\n",
    "    y = 'TotalSteps'\n",
    ")\n",
    "\n",
    "t.set_xlabel('Day of the Week', fontsize = 20)\n",
    "t.set_ylabel('Total Steps', fontsize = 20)\n",
    "t.set_title('Average Total Steps Taken by the Day of the Week', fontsize = 20)"
   ]
  },
  {
   "cell_type": "markdown",
   "id": "lined-pound",
   "metadata": {
    "papermill": {
     "duration": 0.081827,
     "end_time": "2023-04-08T16:16:05.956744",
     "exception": false,
     "start_time": "2023-04-08T16:16:05.874917",
     "status": "completed"
    },
    "tags": []
   },
   "source": [
    "### On weekdays, Tuesday has the most steps taken, whereas on weekends it has the most steps taken on Saturdays. I hyphothesize that since Tuesday seems to be the most busiest day among the users, this may be the very reason why users are mostly undersleeping on Tuesdays."
   ]
  },
  {
   "cell_type": "markdown",
   "id": "silent-lighting",
   "metadata": {
    "papermill": {
     "duration": 0.079334,
     "end_time": "2023-04-08T16:16:06.116100",
     "exception": false,
     "start_time": "2023-04-08T16:16:06.036766",
     "status": "completed"
    },
    "tags": []
   },
   "source": [
    "# Is there a relationship between how active they are and their sleep schedule?"
   ]
  },
  {
   "cell_type": "markdown",
   "id": "scenic-native",
   "metadata": {
    "papermill": {
     "duration": 0.079845,
     "end_time": "2023-04-08T16:16:06.276363",
     "exception": false,
     "start_time": "2023-04-08T16:16:06.196518",
     "status": "completed"
    },
    "tags": []
   },
   "source": [
    "### Since most of these users are lightly active, let's see if there's any relationship between light active users and their sleeping behaviours. "
   ]
  },
  {
   "cell_type": "code",
   "execution_count": 38,
   "id": "public-luxury",
   "metadata": {
    "execution": {
     "iopub.execute_input": "2023-04-08T16:16:06.447271Z",
     "iopub.status.busy": "2023-04-08T16:16:06.446238Z",
     "iopub.status.idle": "2023-04-08T16:16:06.458765Z",
     "shell.execute_reply": "2023-04-08T16:16:06.459339Z",
     "shell.execute_reply.started": "2021-07-05T09:09:19.789633Z"
    },
    "papermill": {
     "duration": 0.101323,
     "end_time": "2023-04-08T16:16:06.459549",
     "exception": false,
     "start_time": "2023-04-08T16:16:06.358226",
     "status": "completed"
    },
    "tags": []
   },
   "outputs": [
    {
     "data": {
      "text/html": [
       "<div>\n",
       "<style scoped>\n",
       "    .dataframe tbody tr th:only-of-type {\n",
       "        vertical-align: middle;\n",
       "    }\n",
       "\n",
       "    .dataframe tbody tr th {\n",
       "        vertical-align: top;\n",
       "    }\n",
       "\n",
       "    .dataframe thead th {\n",
       "        text-align: right;\n",
       "    }\n",
       "</style>\n",
       "<table border=\"1\" class=\"dataframe\">\n",
       "  <thead>\n",
       "    <tr style=\"text-align: right;\">\n",
       "      <th></th>\n",
       "      <th>LightlyActiveMinutes</th>\n",
       "      <th>TotalSleepRecords</th>\n",
       "      <th>TotalMinutesAsleep</th>\n",
       "      <th>TotalTimeInBed</th>\n",
       "    </tr>\n",
       "  </thead>\n",
       "  <tbody>\n",
       "    <tr>\n",
       "      <th>0</th>\n",
       "      <td>328</td>\n",
       "      <td>1</td>\n",
       "      <td>327</td>\n",
       "      <td>346</td>\n",
       "    </tr>\n",
       "    <tr>\n",
       "      <th>1</th>\n",
       "      <td>217</td>\n",
       "      <td>2</td>\n",
       "      <td>384</td>\n",
       "      <td>407</td>\n",
       "    </tr>\n",
       "    <tr>\n",
       "      <th>2</th>\n",
       "      <td>209</td>\n",
       "      <td>1</td>\n",
       "      <td>412</td>\n",
       "      <td>442</td>\n",
       "    </tr>\n",
       "    <tr>\n",
       "      <th>3</th>\n",
       "      <td>221</td>\n",
       "      <td>2</td>\n",
       "      <td>340</td>\n",
       "      <td>367</td>\n",
       "    </tr>\n",
       "    <tr>\n",
       "      <th>4</th>\n",
       "      <td>164</td>\n",
       "      <td>1</td>\n",
       "      <td>700</td>\n",
       "      <td>712</td>\n",
       "    </tr>\n",
       "  </tbody>\n",
       "</table>\n",
       "</div>"
      ],
      "text/plain": [
       "   LightlyActiveMinutes  TotalSleepRecords  TotalMinutesAsleep  TotalTimeInBed\n",
       "0                   328                  1                 327             346\n",
       "1                   217                  2                 384             407\n",
       "2                   209                  1                 412             442\n",
       "3                   221                  2                 340             367\n",
       "4                   164                  1                 700             712"
      ]
     },
     "execution_count": 38,
     "metadata": {},
     "output_type": "execute_result"
    }
   ],
   "source": [
    "lightlyActive = joinedDf[['LightlyActiveMinutes', 'TotalSleepRecords', 'TotalMinutesAsleep', 'TotalTimeInBed']]\n",
    "\n",
    "lightlyActive.head()"
   ]
  },
  {
   "cell_type": "code",
   "execution_count": 39,
   "id": "equivalent-calibration",
   "metadata": {
    "execution": {
     "iopub.execute_input": "2023-04-08T16:16:06.624693Z",
     "iopub.status.busy": "2023-04-08T16:16:06.623692Z",
     "iopub.status.idle": "2023-04-08T16:16:07.016849Z",
     "shell.execute_reply": "2023-04-08T16:16:07.017419Z",
     "shell.execute_reply.started": "2021-07-05T09:09:19.80361Z"
    },
    "papermill": {
     "duration": 0.477607,
     "end_time": "2023-04-08T16:16:07.017627",
     "exception": false,
     "start_time": "2023-04-08T16:16:06.540020",
     "status": "completed"
    },
    "tags": []
   },
   "outputs": [
    {
     "data": {
      "text/plain": [
       "Text(0.5, 1.0, 'Relationship between Total Minutes of Sleep and Users Who are Light Active')"
      ]
     },
     "execution_count": 39,
     "metadata": {},
     "output_type": "execute_result"
    },
    {
     "data": {
      "image/png": "[encoded data removed]",
      "text/plain": [
       "<Figure size 1080x720 with 1 Axes>"
      ]
     },
     "metadata": {},
     "output_type": "display_data"
    }
   ],
   "source": [
    "fig_dims = (15, 10)\n",
    "fig, ax = plt.subplots(figsize=fig_dims)\n",
    "\n",
    "sns.set_style(\"darkgrid\")\n",
    "reg = sns.regplot(\n",
    "    data = lightlyActive,\n",
    "    x = 'LightlyActiveMinutes',\n",
    "    y = 'TotalMinutesAsleep',\n",
    "    ax = ax,\n",
    "    color = 'blue'\n",
    ")\n",
    "\n",
    "reg.set_title('Relationship between Total Minutes of Sleep and Users Who are Light Active')"
   ]
  },
  {
   "cell_type": "markdown",
   "id": "medium-white",
   "metadata": {
    "papermill": {
     "duration": 0.081722,
     "end_time": "2023-04-08T16:16:07.182257",
     "exception": false,
     "start_time": "2023-04-08T16:16:07.100535",
     "status": "completed"
    },
    "tags": []
   },
   "source": [
    "### Looks like there's no correlation between those who lightly active and the amount of sleep they have. \n",
    "\n",
    "# What about those who are mostly sedentary?"
   ]
  },
  {
   "cell_type": "code",
   "execution_count": 40,
   "id": "completed-happiness",
   "metadata": {
    "execution": {
     "iopub.execute_input": "2023-04-08T16:16:07.350087Z",
     "iopub.status.busy": "2023-04-08T16:16:07.349194Z",
     "iopub.status.idle": "2023-04-08T16:16:07.361036Z",
     "shell.execute_reply": "2023-04-08T16:16:07.361616Z",
     "shell.execute_reply.started": "2021-07-05T09:09:20.20964Z"
    },
    "papermill": {
     "duration": 0.097653,
     "end_time": "2023-04-08T16:16:07.361796",
     "exception": false,
     "start_time": "2023-04-08T16:16:07.264143",
     "status": "completed"
    },
    "tags": []
   },
   "outputs": [
    {
     "data": {
      "text/html": [
       "<div>\n",
       "<style scoped>\n",
       "    .dataframe tbody tr th:only-of-type {\n",
       "        vertical-align: middle;\n",
       "    }\n",
       "\n",
       "    .dataframe tbody tr th {\n",
       "        vertical-align: top;\n",
       "    }\n",
       "\n",
       "    .dataframe thead th {\n",
       "        text-align: right;\n",
       "    }\n",
       "</style>\n",
       "<table border=\"1\" class=\"dataframe\">\n",
       "  <thead>\n",
       "    <tr style=\"text-align: right;\">\n",
       "      <th></th>\n",
       "      <th>SedentaryMinutes</th>\n",
       "      <th>TotalSleepRecords</th>\n",
       "      <th>TotalMinutesAsleep</th>\n",
       "      <th>TotalTimeInBed</th>\n",
       "    </tr>\n",
       "  </thead>\n",
       "  <tbody>\n",
       "    <tr>\n",
       "      <th>0</th>\n",
       "      <td>728</td>\n",
       "      <td>1</td>\n",
       "      <td>327</td>\n",
       "      <td>346</td>\n",
       "    </tr>\n",
       "    <tr>\n",
       "      <th>1</th>\n",
       "      <td>776</td>\n",
       "      <td>2</td>\n",
       "      <td>384</td>\n",
       "      <td>407</td>\n",
       "    </tr>\n",
       "    <tr>\n",
       "      <th>2</th>\n",
       "      <td>726</td>\n",
       "      <td>1</td>\n",
       "      <td>412</td>\n",
       "      <td>442</td>\n",
       "    </tr>\n",
       "    <tr>\n",
       "      <th>3</th>\n",
       "      <td>773</td>\n",
       "      <td>2</td>\n",
       "      <td>340</td>\n",
       "      <td>367</td>\n",
       "    </tr>\n",
       "    <tr>\n",
       "      <th>4</th>\n",
       "      <td>539</td>\n",
       "      <td>1</td>\n",
       "      <td>700</td>\n",
       "      <td>712</td>\n",
       "    </tr>\n",
       "  </tbody>\n",
       "</table>\n",
       "</div>"
      ],
      "text/plain": [
       "   SedentaryMinutes  TotalSleepRecords  TotalMinutesAsleep  TotalTimeInBed\n",
       "0               728                  1                 327             346\n",
       "1               776                  2                 384             407\n",
       "2               726                  1                 412             442\n",
       "3               773                  2                 340             367\n",
       "4               539                  1                 700             712"
      ]
     },
     "execution_count": 40,
     "metadata": {},
     "output_type": "execute_result"
    }
   ],
   "source": [
    "sedentary = joinedDf[['SedentaryMinutes', 'TotalSleepRecords', 'TotalMinutesAsleep', 'TotalTimeInBed']]\n",
    "\n",
    "sedentary.head()"
   ]
  },
  {
   "cell_type": "code",
   "execution_count": 41,
   "id": "sized-universe",
   "metadata": {
    "execution": {
     "iopub.execute_input": "2023-04-08T16:16:07.529130Z",
     "iopub.status.busy": "2023-04-08T16:16:07.528412Z",
     "iopub.status.idle": "2023-04-08T16:16:07.943486Z",
     "shell.execute_reply": "2023-04-08T16:16:07.944039Z",
     "shell.execute_reply.started": "2021-07-05T09:09:20.225088Z"
    },
    "papermill": {
     "duration": 0.500128,
     "end_time": "2023-04-08T16:16:07.944221",
     "exception": false,
     "start_time": "2023-04-08T16:16:07.444093",
     "status": "completed"
    },
    "tags": []
   },
   "outputs": [
    {
     "data": {
      "text/plain": [
       "Text(0.5, 1.0, 'Relationship between Total Minutes of Sleep and Users Who are Sedentary')"
      ]
     },
     "execution_count": 41,
     "metadata": {},
     "output_type": "execute_result"
    },
    {
     "data": {
      "image/png": "[encoded data removed]",
      "text/plain": [
       "<Figure size 1080x720 with 1 Axes>"
      ]
     },
     "metadata": {},
     "output_type": "display_data"
    }
   ],
   "source": [
    "sns.set_style(\"darkgrid\")\n",
    "fig_dims = (15, 10)\n",
    "fig, ax = plt.subplots(figsize=fig_dims)\n",
    "\n",
    "s = sns.regplot(\n",
    "    data = sedentary,\n",
    "    x = 'SedentaryMinutes',\n",
    "    y = 'TotalMinutesAsleep',\n",
    "    ax = ax,\n",
    "    color = 'blue'\n",
    ")\n",
    "\n",
    "s.set_title('Relationship between Total Minutes of Sleep and Users Who are Sedentary')"
   ]
  },
  {
   "cell_type": "markdown",
   "id": "conservative-algeria",
   "metadata": {
    "papermill": {
     "duration": 0.085504,
     "end_time": "2023-04-08T16:16:08.116995",
     "exception": false,
     "start_time": "2023-04-08T16:16:08.031491",
     "status": "completed"
    },
    "tags": []
   },
   "source": [
    "### There's a negative correlation! The more idle the person is during the day, it seems that they would also be getting fewer sleep than those who are more active! \n",
    "\n",
    "### I recommend bellabeat to take note of this insight and maybe consider sending notifications to users who might have been idle throughout the day to get some light exercises so as to allow them to have a better sleep later in the day. "
   ]
  },
  {
   "cell_type": "markdown",
   "id": "removable-bermuda",
   "metadata": {
    "papermill": {
     "duration": 0.087717,
     "end_time": "2023-04-08T16:16:08.290258",
     "exception": false,
     "start_time": "2023-04-08T16:16:08.202541",
     "status": "completed"
    },
    "tags": []
   },
   "source": [
    "# What About those who are fairly active and very active?"
   ]
  },
  {
   "cell_type": "code",
   "execution_count": 42,
   "id": "promising-bleeding",
   "metadata": {
    "execution": {
     "iopub.execute_input": "2023-04-08T16:16:08.494630Z",
     "iopub.status.busy": "2023-04-08T16:16:08.469442Z",
     "iopub.status.idle": "2023-04-08T16:16:08.498976Z",
     "shell.execute_reply": "2023-04-08T16:16:08.498316Z",
     "shell.execute_reply.started": "2021-07-05T09:09:20.637973Z"
    },
    "papermill": {
     "duration": 0.12078,
     "end_time": "2023-04-08T16:16:08.499124",
     "exception": false,
     "start_time": "2023-04-08T16:16:08.378344",
     "status": "completed"
    },
    "tags": []
   },
   "outputs": [
    {
     "data": {
      "text/html": [
       "<div>\n",
       "<style scoped>\n",
       "    .dataframe tbody tr th:only-of-type {\n",
       "        vertical-align: middle;\n",
       "    }\n",
       "\n",
       "    .dataframe tbody tr th {\n",
       "        vertical-align: top;\n",
       "    }\n",
       "\n",
       "    .dataframe thead th {\n",
       "        text-align: right;\n",
       "    }\n",
       "</style>\n",
       "<table border=\"1\" class=\"dataframe\">\n",
       "  <thead>\n",
       "    <tr style=\"text-align: right;\">\n",
       "      <th></th>\n",
       "      <th>Id</th>\n",
       "      <th>ActivityDate</th>\n",
       "      <th>TotalSteps</th>\n",
       "      <th>TotalDistance</th>\n",
       "      <th>TrackerDistance</th>\n",
       "      <th>LoggedActivitiesDistance</th>\n",
       "      <th>VeryActiveDistance</th>\n",
       "      <th>ModeratelyActiveDistance</th>\n",
       "      <th>LightActiveDistance</th>\n",
       "      <th>SedentaryActiveDistance</th>\n",
       "      <th>VeryActiveMinutes</th>\n",
       "      <th>FairlyActiveMinutes</th>\n",
       "      <th>LightlyActiveMinutes</th>\n",
       "      <th>SedentaryMinutes</th>\n",
       "      <th>Calories</th>\n",
       "      <th>day_name</th>\n",
       "      <th>weekend_weekday</th>\n",
       "      <th>date</th>\n",
       "      <th>SleepDay</th>\n",
       "      <th>TotalSleepRecords</th>\n",
       "      <th>TotalMinutesAsleep</th>\n",
       "      <th>TotalTimeInBed</th>\n",
       "    </tr>\n",
       "  </thead>\n",
       "  <tbody>\n",
       "    <tr>\n",
       "      <th>0</th>\n",
       "      <td>1503960366</td>\n",
       "      <td>2016-04-12</td>\n",
       "      <td>13162</td>\n",
       "      <td>8.50</td>\n",
       "      <td>8.50</td>\n",
       "      <td>0.0</td>\n",
       "      <td>1.88</td>\n",
       "      <td>0.55</td>\n",
       "      <td>6.06</td>\n",
       "      <td>0.0</td>\n",
       "      <td>25</td>\n",
       "      <td>13</td>\n",
       "      <td>328</td>\n",
       "      <td>728</td>\n",
       "      <td>1985</td>\n",
       "      <td>Tuesday</td>\n",
       "      <td>Weekday</td>\n",
       "      <td>2016-04-12</td>\n",
       "      <td>2016-04-12</td>\n",
       "      <td>1</td>\n",
       "      <td>327</td>\n",
       "      <td>346</td>\n",
       "    </tr>\n",
       "    <tr>\n",
       "      <th>1</th>\n",
       "      <td>1503960366</td>\n",
       "      <td>2016-04-13</td>\n",
       "      <td>10735</td>\n",
       "      <td>6.97</td>\n",
       "      <td>6.97</td>\n",
       "      <td>0.0</td>\n",
       "      <td>1.57</td>\n",
       "      <td>0.69</td>\n",
       "      <td>4.71</td>\n",
       "      <td>0.0</td>\n",
       "      <td>21</td>\n",
       "      <td>19</td>\n",
       "      <td>217</td>\n",
       "      <td>776</td>\n",
       "      <td>1797</td>\n",
       "      <td>Wednesday</td>\n",
       "      <td>Weekday</td>\n",
       "      <td>2016-04-13</td>\n",
       "      <td>2016-04-13</td>\n",
       "      <td>2</td>\n",
       "      <td>384</td>\n",
       "      <td>407</td>\n",
       "    </tr>\n",
       "    <tr>\n",
       "      <th>2</th>\n",
       "      <td>1503960366</td>\n",
       "      <td>2016-04-15</td>\n",
       "      <td>9762</td>\n",
       "      <td>6.28</td>\n",
       "      <td>6.28</td>\n",
       "      <td>0.0</td>\n",
       "      <td>2.14</td>\n",
       "      <td>1.26</td>\n",
       "      <td>2.83</td>\n",
       "      <td>0.0</td>\n",
       "      <td>29</td>\n",
       "      <td>34</td>\n",
       "      <td>209</td>\n",
       "      <td>726</td>\n",
       "      <td>1745</td>\n",
       "      <td>Friday</td>\n",
       "      <td>Weekday</td>\n",
       "      <td>2016-04-15</td>\n",
       "      <td>2016-04-15</td>\n",
       "      <td>1</td>\n",
       "      <td>412</td>\n",
       "      <td>442</td>\n",
       "    </tr>\n",
       "    <tr>\n",
       "      <th>3</th>\n",
       "      <td>1503960366</td>\n",
       "      <td>2016-04-16</td>\n",
       "      <td>12669</td>\n",
       "      <td>8.16</td>\n",
       "      <td>8.16</td>\n",
       "      <td>0.0</td>\n",
       "      <td>2.71</td>\n",
       "      <td>0.41</td>\n",
       "      <td>5.04</td>\n",
       "      <td>0.0</td>\n",
       "      <td>36</td>\n",
       "      <td>10</td>\n",
       "      <td>221</td>\n",
       "      <td>773</td>\n",
       "      <td>1863</td>\n",
       "      <td>Saturday</td>\n",
       "      <td>Weekend</td>\n",
       "      <td>2016-04-16</td>\n",
       "      <td>2016-04-16</td>\n",
       "      <td>2</td>\n",
       "      <td>340</td>\n",
       "      <td>367</td>\n",
       "    </tr>\n",
       "    <tr>\n",
       "      <th>4</th>\n",
       "      <td>1503960366</td>\n",
       "      <td>2016-04-17</td>\n",
       "      <td>9705</td>\n",
       "      <td>6.48</td>\n",
       "      <td>6.48</td>\n",
       "      <td>0.0</td>\n",
       "      <td>3.19</td>\n",
       "      <td>0.78</td>\n",
       "      <td>2.51</td>\n",
       "      <td>0.0</td>\n",
       "      <td>38</td>\n",
       "      <td>20</td>\n",
       "      <td>164</td>\n",
       "      <td>539</td>\n",
       "      <td>1728</td>\n",
       "      <td>Sunday</td>\n",
       "      <td>Weekend</td>\n",
       "      <td>2016-04-17</td>\n",
       "      <td>2016-04-17</td>\n",
       "      <td>1</td>\n",
       "      <td>700</td>\n",
       "      <td>712</td>\n",
       "    </tr>\n",
       "  </tbody>\n",
       "</table>\n",
       "</div>"
      ],
      "text/plain": [
       "           Id ActivityDate  TotalSteps  TotalDistance  TrackerDistance  \\\n",
       "0  1503960366   2016-04-12       13162           8.50             8.50   \n",
       "1  1503960366   2016-04-13       10735           6.97             6.97   \n",
       "2  1503960366   2016-04-15        9762           6.28             6.28   \n",
       "3  1503960366   2016-04-16       12669           8.16             8.16   \n",
       "4  1503960366   2016-04-17        9705           6.48             6.48   \n",
       "\n",
       "   LoggedActivitiesDistance  VeryActiveDistance  ModeratelyActiveDistance  \\\n",
       "0                       0.0                1.88                      0.55   \n",
       "1                       0.0                1.57                      0.69   \n",
       "2                       0.0                2.14                      1.26   \n",
       "3                       0.0                2.71                      0.41   \n",
       "4                       0.0                3.19                      0.78   \n",
       "\n",
       "   LightActiveDistance  SedentaryActiveDistance  VeryActiveMinutes  \\\n",
       "0                 6.06                      0.0                 25   \n",
       "1                 4.71                      0.0                 21   \n",
       "2                 2.83                      0.0                 29   \n",
       "3                 5.04                      0.0                 36   \n",
       "4                 2.51                      0.0                 38   \n",
       "\n",
       "   FairlyActiveMinutes  LightlyActiveMinutes  SedentaryMinutes  Calories  \\\n",
       "0                   13                   328               728      1985   \n",
       "1                   19                   217               776      1797   \n",
       "2                   34                   209               726      1745   \n",
       "3                   10                   221               773      1863   \n",
       "4                   20                   164               539      1728   \n",
       "\n",
       "    day_name weekend_weekday       date   SleepDay  TotalSleepRecords  \\\n",
       "0    Tuesday         Weekday 2016-04-12 2016-04-12                  1   \n",
       "1  Wednesday         Weekday 2016-04-13 2016-04-13                  2   \n",
       "2     Friday         Weekday 2016-04-15 2016-04-15                  1   \n",
       "3   Saturday         Weekend 2016-04-16 2016-04-16                  2   \n",
       "4     Sunday         Weekend 2016-04-17 2016-04-17                  1   \n",
       "\n",
       "   TotalMinutesAsleep  TotalTimeInBed  \n",
       "0                 327             346  \n",
       "1                 384             407  \n",
       "2                 412             442  \n",
       "3                 340             367  \n",
       "4                 700             712  "
      ]
     },
     "execution_count": 42,
     "metadata": {},
     "output_type": "execute_result"
    }
   ],
   "source": [
    "joinedDf.head()"
   ]
  },
  {
   "cell_type": "code",
   "execution_count": 43,
   "id": "automotive-pavilion",
   "metadata": {
    "execution": {
     "iopub.execute_input": "2023-04-08T16:16:08.685890Z",
     "iopub.status.busy": "2023-04-08T16:16:08.684905Z",
     "iopub.status.idle": "2023-04-08T16:16:09.531813Z",
     "shell.execute_reply": "2023-04-08T16:16:09.531100Z",
     "shell.execute_reply.started": "2021-07-05T09:09:20.669126Z"
    },
    "papermill": {
     "duration": 0.944983,
     "end_time": "2023-04-08T16:16:09.531981",
     "exception": false,
     "start_time": "2023-04-08T16:16:08.586998",
     "status": "completed"
    },
    "tags": []
   },
   "outputs": [
    {
     "data": {
      "image/png": "[encoded data removed]",
      "text/plain": [
       "<Figure size 1080x720 with 1 Axes>"
      ]
     },
     "metadata": {},
     "output_type": "display_data"
    },
    {
     "data": {
      "image/png": "[encoded data removed]",
      "text/plain": [
       "<Figure size 1080x720 with 1 Axes>"
      ]
     },
     "metadata": {},
     "output_type": "display_data"
    }
   ],
   "source": [
    "sns.set_style(\"darkgrid\")\n",
    "fig_dims = (15, 10)\n",
    "fig, ax = plt.subplots(figsize=fig_dims)\n",
    "\n",
    "s = sns.regplot(\n",
    "    data = joinedDf,\n",
    "    x = 'FairlyActiveMinutes',\n",
    "    y = 'TotalMinutesAsleep',\n",
    "    ax = ax,\n",
    "    color = 'blue'\n",
    ")\n",
    "\n",
    "s.set_title('Relationship between Total Minutes of Sleep and Users Who are Fairly Active', fontsize = 20)\n",
    "s.set_xlabel('Fairly Active Minutes', fontsize = 20)\n",
    "s.set_ylabel('Total Minutes Asleep', fontsize = 20)\n",
    "plt.show()\n",
    "\n",
    "# Very Active \n",
    "sns.set_style(\"darkgrid\")\n",
    "fig_dims = (15, 10)\n",
    "fig, ax = plt.subplots(figsize=fig_dims)\n",
    "\n",
    "s = sns.regplot(\n",
    "    data = joinedDf,\n",
    "    x = 'VeryActiveMinutes',\n",
    "    y = 'TotalMinutesAsleep',\n",
    "    ax = ax,\n",
    "    color = 'blue'\n",
    ")\n",
    "\n",
    "s.set_title('Relationship between Total Minutes of Sleep and Users Who are Very Active', fontsize = 20)\n",
    "s.set_xlabel('Very Active Minutes', fontsize = 20)\n",
    "s.set_ylabel('Total Minutes Asleep', fontsize = 20)\n",
    "plt.show()"
   ]
  },
  {
   "cell_type": "markdown",
   "id": "dynamic-replication",
   "metadata": {
    "papermill": {
     "duration": 0.094691,
     "end_time": "2023-04-08T16:16:09.722405",
     "exception": false,
     "start_time": "2023-04-08T16:16:09.627714",
     "status": "completed"
    },
    "tags": []
   },
   "source": [
    "### Although there's a slight negative trend for Fairly active users, it doesn't seem to be a very strong correlation but still worth mentioning. Also, those who are very active don't seem to have a correlation as well. "
   ]
  },
  {
   "cell_type": "markdown",
   "id": "robust-screen",
   "metadata": {
    "papermill": {
     "duration": 0.096703,
     "end_time": "2023-04-08T16:16:09.911906",
     "exception": false,
     "start_time": "2023-04-08T16:16:09.815203",
     "status": "completed"
    },
    "tags": []
   },
   "source": [
    "# On what hour do users are the most active during the day?"
   ]
  },
  {
   "cell_type": "code",
   "execution_count": 44,
   "id": "developed-helicopter",
   "metadata": {
    "execution": {
     "iopub.execute_input": "2023-04-08T16:16:10.102452Z",
     "iopub.status.busy": "2023-04-08T16:16:10.101777Z",
     "iopub.status.idle": "2023-04-08T16:16:10.186994Z",
     "shell.execute_reply": "2023-04-08T16:16:10.187514Z",
     "shell.execute_reply.started": "2021-07-05T09:09:21.481604Z"
    },
    "papermill": {
     "duration": 0.182289,
     "end_time": "2023-04-08T16:16:10.187719",
     "exception": false,
     "start_time": "2023-04-08T16:16:10.005430",
     "status": "completed"
    },
    "tags": []
   },
   "outputs": [],
   "source": [
    "#Ensuring proper formatting\n",
    "hourlyIntensities['ActivityHour'] = pd.to_datetime(hourlyIntensities['ActivityHour'], format = '%m/%d/%Y %I:%M:%S %p')"
   ]
  },
  {
   "cell_type": "code",
   "execution_count": 45,
   "id": "ancient-enterprise",
   "metadata": {
    "execution": {
     "iopub.execute_input": "2023-04-08T16:16:10.375557Z",
     "iopub.status.busy": "2023-04-08T16:16:10.374842Z",
     "iopub.status.idle": "2023-04-08T16:16:10.876551Z",
     "shell.execute_reply": "2023-04-08T16:16:10.875983Z",
     "shell.execute_reply.started": "2021-07-05T09:09:21.624606Z"
    },
    "papermill": {
     "duration": 0.597396,
     "end_time": "2023-04-08T16:16:10.876714",
     "exception": false,
     "start_time": "2023-04-08T16:16:10.279318",
     "status": "completed"
    },
    "tags": []
   },
   "outputs": [
    {
     "data": {
      "text/plain": [
       "Text(0.5, 1.0, 'Average Total Intensity Per Hour')"
      ]
     },
     "execution_count": 45,
     "metadata": {},
     "output_type": "execute_result"
    },
    {
     "data": {
      "image/png": "[encoded data removed]",
      "text/plain": [
       "<Figure size 1656x936 with 1 Axes>"
      ]
     },
     "metadata": {},
     "output_type": "display_data"
    }
   ],
   "source": [
    "#Group by the hours and find the average total intensity, which should therefore give only 24 rows in the end\n",
    "mean = hourlyIntensities.groupby(hourlyIntensities['ActivityHour'].dt.time)['TotalIntensity'].mean()\n",
    "\n",
    "sns.set_style(\"darkgrid\")\n",
    "fig_dims = (23, 13)\n",
    "fig, ax = plt.subplots(figsize=fig_dims)\n",
    "\n",
    "#create temporary dataframe\n",
    "tempDf = pd.DataFrame(mean)\n",
    "\n",
    "t = sns.barplot(\n",
    "    data = tempDf, \n",
    "    x = tempDf.index,\n",
    "    y = 'TotalIntensity'\n",
    ")\n",
    "\n",
    "t.set_xlabel('Time', fontsize = 20)\n",
    "t.set_ylabel('Average Total Intensity', fontsize = 20)\n",
    "t.set_title('Average Total Intensity Per Hour', fontsize = 20)"
   ]
  },
  {
   "cell_type": "markdown",
   "id": "duplicate-range",
   "metadata": {
    "papermill": {
     "duration": 0.094052,
     "end_time": "2023-04-08T16:16:11.065351",
     "exception": false,
     "start_time": "2023-04-08T16:16:10.971299",
     "status": "completed"
    },
    "tags": []
   },
   "source": [
    "## With this visualization I can see that:\n",
    "* Users are most active between 5pm to 7pm. I speculate that this is because users tend to finish work around these hours, and right after they start engaging in physical activities such as going to the gym or a jog. **Therefore, I recommend Bellabeat to notify users to do some exercises around this time frame.**\n",
    "* Users start to get active starting from 5am and rest on 9pm. "
   ]
  },
  {
   "cell_type": "markdown",
   "id": "empirical-grove",
   "metadata": {
    "papermill": {
     "duration": 0.097546,
     "end_time": "2023-04-08T16:16:11.262453",
     "exception": false,
     "start_time": "2023-04-08T16:16:11.164907",
     "status": "completed"
    },
    "tags": []
   },
   "source": [
    "# On what day of the week are users the most active during the day?"
   ]
  },
  {
   "cell_type": "code",
   "execution_count": 46,
   "id": "great-variance",
   "metadata": {
    "execution": {
     "iopub.execute_input": "2023-04-08T16:16:11.471332Z",
     "iopub.status.busy": "2023-04-08T16:16:11.470528Z",
     "iopub.status.idle": "2023-04-08T16:16:11.782307Z",
     "shell.execute_reply": "2023-04-08T16:16:11.781541Z",
     "shell.execute_reply.started": "2021-07-05T09:09:22.136456Z"
    },
    "papermill": {
     "duration": 0.419703,
     "end_time": "2023-04-08T16:16:11.782476",
     "exception": false,
     "start_time": "2023-04-08T16:16:11.362773",
     "status": "completed"
    },
    "tags": []
   },
   "outputs": [
    {
     "data": {
      "text/plain": [
       "Text(0.5, 1.0, 'Average Total Intensity Vs Day')"
      ]
     },
     "execution_count": 46,
     "metadata": {},
     "output_type": "execute_result"
    },
    {
     "data": {
      "image/png": "[encoded data removed]",
      "text/plain": [
       "<Figure size 1656x936 with 1 Axes>"
      ]
     },
     "metadata": {},
     "output_type": "display_data"
    }
   ],
   "source": [
    "meanDays = hourlyIntensities.groupby(hourlyIntensities['ActivityHour'].dt.day_name())['TotalIntensity'].mean()\n",
    "\n",
    "fig_dims = (23, 13)\n",
    "fig, ax = plt.subplots(figsize=fig_dims)\n",
    "\n",
    "# create temporary dataframe\n",
    "tempDf = pd.DataFrame(meanDays)\n",
    "tempDf = tempDf.reset_index()\n",
    "\n",
    "tempDf.rename(columns = {\"ActivityHour\": \"Day\"}, inplace = True)\n",
    "\n",
    "#sort by day\n",
    "cats = ['Monday', 'Tuesday', 'Wednesday', 'Thursday', 'Friday', 'Saturday', 'Sunday']\n",
    "tempDf['Day'] = pd.Categorical(tempDf['Day'], categories = cats)\n",
    "tempDf = tempDf.sort_values('Day')\n",
    "\n",
    "t= sns.barplot(\n",
    "    x = 'Day',\n",
    "    y = 'TotalIntensity',\n",
    "    data = tempDf\n",
    ")\n",
    "\n",
    "t.set_xlabel('Day', fontsize = 20)\n",
    "t.set_ylabel('Average Total Intensity', fontsize = 20)\n",
    "t.set_title('Average Total Intensity Vs Day', fontsize = 20)"
   ]
  },
  {
   "cell_type": "markdown",
   "id": "anticipated-pavilion",
   "metadata": {
    "papermill": {
     "duration": 0.094231,
     "end_time": "2023-04-08T16:16:11.976553",
     "exception": false,
     "start_time": "2023-04-08T16:16:11.882322",
     "status": "completed"
    },
    "tags": []
   },
   "source": [
    "### With the above visualization, I can see that Sunday is the least intense among the users and that Saturday is the most intense. Also, on weekdays Tuesdays seem to be the most busiest in terms of both average total intensity and total steps taken. With this much evidence, I can safely conclude that Saturdays are the most active day on weekends and Tuesdays the most busiest on weekdays. "
   ]
  },
  {
   "cell_type": "markdown",
   "id": "lesbian-banana",
   "metadata": {
    "papermill": {
     "duration": 0.095477,
     "end_time": "2023-04-08T16:16:12.167313",
     "exception": false,
     "start_time": "2023-04-08T16:16:12.071836",
     "status": "completed"
    },
    "tags": []
   },
   "source": [
    "# Summary of my findings:\n",
    "After analyzing the data, I have found some insightful information that may be of interest for Bellabeat. As a reminder, Bellabeat is a high-tech company that manufactures health-focused smart products for women. Here are some business marketing recommendations that I can give to Bellabeat:\n",
    "1. I suggest Bellabeat to give notifications to their users who had been idle during the day to consider doing some light exercises. And with my previous finding that shows that being sedentary is associating to lack of sleep, it shows that the more idle you are, the lesser the quality of one's sleep may be. Therefore, this reason may serve as a good incentive to encourage users to be more active as this may allow them to sleep better when it's time for bed. \n",
    "\n",
    "2. I recommend Bellabeat to notify/remind users to do some exercises between 5pm and 7pm as this is when most users finish work and start exercising based on the data. This is also a great opportunity to encourage those who might have a goal to lose weight to start exercising on this time frame. \n",
    "\n",
    "3. Bellabeat should consider notifying users the importance of at least getting more than 8000 steps per day as this will benefit the users in the long run. This is based on a [research](https://www.cdc.gov/media/releases/2020/p0324-daily-step-count.html) by CDC that taking 8,000 steps per day was associated with a 51% lower risk for all-cause mortality (or death from all causes). Therefore, it is highly recommended for Bellabeat to consider this advice into consideration for their next marketing strategy. \n",
    "\n",
    "4. As users tend exercise more on Saturdays, Bellabeat can use this information to remind users to do some exercise on Saturdays as they are more likely to be more motivated. Also, there seems to be a noticable drop in activity when it is Sunday. Therefore, I recommend Bellabeat to encourage users to be more proactive during the Sundays as, based on the data, users tend to be a bit more laidback on Sundays. Users also seem to oversleep the most on Sunday, therefore Bellabeat should consider advising their users to be mindful of this as oversleeping is associated with risk of diabetes, heart disease, stroke, and death ([source](https://amerisleep.com/blog/oversleeping-the-health-effects/))\n",
    "\n",
    "6. Bellabeat should notify users when their heart-rate detected to be outside the range of 60-100 BPM as this may signify a potential underlying health condition that the user may not be aware of.\n",
    "\n",
    "7. By combining the fact that Tuesday has the most steps taken and that average total intensity is the highest, this might be the very reason why the users on this dataset are undersleeping the most on Tuesday. Bellabeat should consider advising their users to exercise meditation so as to calm themselves on stressful days. "
   ]
  }
 ],
 "metadata": {
  "kernelspec": {
   "display_name": "Python 3",
   "language": "python",
   "name": "python3"
  },
  "language_info": {
   "codemirror_mode": {
    "name": "ipython",
    "version": 3
   },
   "file_extension": ".py",
   "mimetype": "text/x-python",
   "name": "python",
   "nbconvert_exporter": "python",
   "pygments_lexer": "ipython3",
   "version": "3.7.10"
  },
  "papermill": {
   "default_parameters": {},
   "duration": 46.098641,
   "end_time": "2023-04-08T16:16:13.870780",
   "environment_variables": {},
   "exception": null,
   "input_path": "__notebook__.ipynb",
   "output_path": "__notebook__.ipynb",
   "parameters": {},
   "start_time": "2023-04-08T16:15:27.772139",
   "version": "2.3.3"
  }
 },
 "nbformat": 4,
 "nbformat_minor": 5
}
